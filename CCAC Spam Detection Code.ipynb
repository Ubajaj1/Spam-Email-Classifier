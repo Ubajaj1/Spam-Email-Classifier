{
 "cells": [
  {
   "cell_type": "code",
   "execution_count": 1,
   "id": "24e7d3ed",
   "metadata": {},
   "outputs": [],
   "source": [
    "#Importing all the libraries to be used\n",
    "import warnings\n",
    "import matplotlib.pyplot as plt\n",
    "import seaborn as sns\n",
    "import numpy as np \n",
    "import pandas as pd\n",
    "import os\n",
    "import re\n",
    "import nltk\n",
    "from nltk.corpus import stopwords\n",
    "from nltk.stem.porter import PorterStemmer\n",
    "from nltk.stem import WordNetLemmatizer\n",
    "from sklearn.feature_extraction.text import TfidfVectorizer\n",
    "from sklearn.preprocessing import LabelEncoder\n",
    "from sklearn.model_selection import train_test_split\n",
    "from sklearn.pipeline import Pipeline    \n",
    "from sklearn.naive_bayes import MultinomialNB\n",
    "from sklearn.ensemble import RandomForestClassifier\n",
    "from sklearn.neighbors import KNeighborsClassifier\n",
    "from sklearn.svm import SVC\n",
    "from sklearn.model_selection import cross_val_score\n",
    "from matplotlib.colors import ListedColormap\n",
    "from sklearn.metrics import precision_score, recall_score, plot_confusion_matrix, classification_report, accuracy_score, f1_score\n",
    "from sklearn import metrics"
   ]
  },
  {
   "cell_type": "code",
   "execution_count": 2,
   "id": "a9dfdb07",
   "metadata": {},
   "outputs": [
    {
     "data": {
      "text/html": [
       "<div>\n",
       "<style scoped>\n",
       "    .dataframe tbody tr th:only-of-type {\n",
       "        vertical-align: middle;\n",
       "    }\n",
       "\n",
       "    .dataframe tbody tr th {\n",
       "        vertical-align: top;\n",
       "    }\n",
       "\n",
       "    .dataframe thead th {\n",
       "        text-align: right;\n",
       "    }\n",
       "</style>\n",
       "<table border=\"1\" class=\"dataframe\">\n",
       "  <thead>\n",
       "    <tr style=\"text-align: right;\">\n",
       "      <th></th>\n",
       "      <th>v1</th>\n",
       "      <th>v2</th>\n",
       "      <th>Unnamed: 2</th>\n",
       "      <th>Unnamed: 3</th>\n",
       "      <th>Unnamed: 4</th>\n",
       "    </tr>\n",
       "  </thead>\n",
       "  <tbody>\n",
       "    <tr>\n",
       "      <th>0</th>\n",
       "      <td>ham</td>\n",
       "      <td>Go until jurong point, crazy.. Available only ...</td>\n",
       "      <td>NaN</td>\n",
       "      <td>NaN</td>\n",
       "      <td>NaN</td>\n",
       "    </tr>\n",
       "    <tr>\n",
       "      <th>1</th>\n",
       "      <td>ham</td>\n",
       "      <td>Ok lar... Joking wif u oni...</td>\n",
       "      <td>NaN</td>\n",
       "      <td>NaN</td>\n",
       "      <td>NaN</td>\n",
       "    </tr>\n",
       "    <tr>\n",
       "      <th>2</th>\n",
       "      <td>spam</td>\n",
       "      <td>Free entry in 2 a wkly comp to win FA Cup fina...</td>\n",
       "      <td>NaN</td>\n",
       "      <td>NaN</td>\n",
       "      <td>NaN</td>\n",
       "    </tr>\n",
       "    <tr>\n",
       "      <th>3</th>\n",
       "      <td>ham</td>\n",
       "      <td>U dun say so early hor... U c already then say...</td>\n",
       "      <td>NaN</td>\n",
       "      <td>NaN</td>\n",
       "      <td>NaN</td>\n",
       "    </tr>\n",
       "    <tr>\n",
       "      <th>4</th>\n",
       "      <td>ham</td>\n",
       "      <td>Nah I don't think he goes to usf, he lives aro...</td>\n",
       "      <td>NaN</td>\n",
       "      <td>NaN</td>\n",
       "      <td>NaN</td>\n",
       "    </tr>\n",
       "  </tbody>\n",
       "</table>\n",
       "</div>"
      ],
      "text/plain": [
       "     v1                                                 v2 Unnamed: 2  \\\n",
       "0   ham  Go until jurong point, crazy.. Available only ...        NaN   \n",
       "1   ham                      Ok lar... Joking wif u oni...        NaN   \n",
       "2  spam  Free entry in 2 a wkly comp to win FA Cup fina...        NaN   \n",
       "3   ham  U dun say so early hor... U c already then say...        NaN   \n",
       "4   ham  Nah I don't think he goes to usf, he lives aro...        NaN   \n",
       "\n",
       "  Unnamed: 3 Unnamed: 4  \n",
       "0        NaN        NaN  \n",
       "1        NaN        NaN  \n",
       "2        NaN        NaN  \n",
       "3        NaN        NaN  \n",
       "4        NaN        NaN  "
      ]
     },
     "execution_count": 2,
     "metadata": {},
     "output_type": "execute_result"
    }
   ],
   "source": [
    "#Loading Dataset\n",
    "data = pd.read_csv('spam.csv')\n",
    "\n",
    "#displaying the first 5 rows\n",
    "data.head(5)"
   ]
  },
  {
   "cell_type": "code",
   "execution_count": 3,
   "id": "a8402f4a",
   "metadata": {},
   "outputs": [],
   "source": [
    "#Loading validation dataset\n",
    "os.getcwd()\n",
    "valid_data=pd.read_csv('CCAC_data_body.csv')"
   ]
  },
  {
   "cell_type": "code",
   "execution_count": 4,
   "id": "01be2f0e",
   "metadata": {},
   "outputs": [
    {
     "data": {
      "text/plain": [
       "(10743, 5)"
      ]
     },
     "execution_count": 4,
     "metadata": {},
     "output_type": "execute_result"
    }
   ],
   "source": [
    "data.shape"
   ]
  },
  {
   "cell_type": "code",
   "execution_count": 5,
   "id": "7f2a4efe",
   "metadata": {},
   "outputs": [
    {
     "data": {
      "text/plain": [
       "(4898, 2)"
      ]
     },
     "execution_count": 5,
     "metadata": {},
     "output_type": "execute_result"
    }
   ],
   "source": [
    "valid_data.shape"
   ]
  },
  {
   "cell_type": "code",
   "execution_count": 6,
   "id": "5ba880e2",
   "metadata": {},
   "outputs": [
    {
     "name": "stdout",
     "output_type": "stream",
     "text": [
      "<class 'pandas.core.frame.DataFrame'>\n",
      "RangeIndex: 10743 entries, 0 to 10742\n",
      "Data columns (total 5 columns):\n",
      " #   Column      Non-Null Count  Dtype \n",
      "---  ------      --------------  ----- \n",
      " 0   v1          10743 non-null  object\n",
      " 1   v2          10743 non-null  object\n",
      " 2   Unnamed: 2  50 non-null     object\n",
      " 3   Unnamed: 3  12 non-null     object\n",
      " 4   Unnamed: 4  6 non-null      object\n",
      "dtypes: object(5)\n",
      "memory usage: 419.8+ KB\n"
     ]
    }
   ],
   "source": [
    "data.info()"
   ]
  },
  {
   "cell_type": "code",
   "execution_count": 7,
   "id": "d68c775b",
   "metadata": {},
   "outputs": [
    {
     "name": "stdout",
     "output_type": "stream",
     "text": [
      "<class 'pandas.core.frame.DataFrame'>\n",
      "RangeIndex: 4898 entries, 0 to 4897\n",
      "Data columns (total 2 columns):\n",
      " #   Column  Non-Null Count  Dtype \n",
      "---  ------  --------------  ----- \n",
      " 0   Id      4898 non-null   int64 \n",
      " 1   Body    4730 non-null   object\n",
      "dtypes: int64(1), object(1)\n",
      "memory usage: 76.7+ KB\n"
     ]
    }
   ],
   "source": [
    "valid_data.info()"
   ]
  },
  {
   "cell_type": "code",
   "execution_count": 8,
   "id": "38bd7906",
   "metadata": {},
   "outputs": [
    {
     "data": {
      "text/html": [
       "<div>\n",
       "<style scoped>\n",
       "    .dataframe tbody tr th:only-of-type {\n",
       "        vertical-align: middle;\n",
       "    }\n",
       "\n",
       "    .dataframe tbody tr th {\n",
       "        vertical-align: top;\n",
       "    }\n",
       "\n",
       "    .dataframe thead th {\n",
       "        text-align: right;\n",
       "    }\n",
       "</style>\n",
       "<table border=\"1\" class=\"dataframe\">\n",
       "  <thead>\n",
       "    <tr style=\"text-align: right;\">\n",
       "      <th></th>\n",
       "      <th>Target</th>\n",
       "      <th>Text</th>\n",
       "    </tr>\n",
       "  </thead>\n",
       "  <tbody>\n",
       "    <tr>\n",
       "      <th>0</th>\n",
       "      <td>ham</td>\n",
       "      <td>Go until jurong point, crazy.. Available only ...</td>\n",
       "    </tr>\n",
       "    <tr>\n",
       "      <th>1</th>\n",
       "      <td>ham</td>\n",
       "      <td>Ok lar... Joking wif u oni...</td>\n",
       "    </tr>\n",
       "    <tr>\n",
       "      <th>2</th>\n",
       "      <td>spam</td>\n",
       "      <td>Free entry in 2 a wkly comp to win FA Cup fina...</td>\n",
       "    </tr>\n",
       "    <tr>\n",
       "      <th>3</th>\n",
       "      <td>ham</td>\n",
       "      <td>U dun say so early hor... U c already then say...</td>\n",
       "    </tr>\n",
       "    <tr>\n",
       "      <th>4</th>\n",
       "      <td>ham</td>\n",
       "      <td>Nah I don't think he goes to usf, he lives aro...</td>\n",
       "    </tr>\n",
       "  </tbody>\n",
       "</table>\n",
       "</div>"
      ],
      "text/plain": [
       "  Target                                               Text\n",
       "0    ham  Go until jurong point, crazy.. Available only ...\n",
       "1    ham                      Ok lar... Joking wif u oni...\n",
       "2   spam  Free entry in 2 a wkly comp to win FA Cup fina...\n",
       "3    ham  U dun say so early hor... U c already then say...\n",
       "4    ham  Nah I don't think he goes to usf, he lives aro..."
      ]
     },
     "execution_count": 8,
     "metadata": {},
     "output_type": "execute_result"
    }
   ],
   "source": [
    "# Dropping the columns\n",
    "to_drop = [\"Unnamed: 2\",\"Unnamed: 3\",\"Unnamed: 4\"]\n",
    "data = data.drop(data[to_drop], axis=1)\n",
    "# Renaming the columns \n",
    "data.rename(columns = {\"v1\":\"Target\", \"v2\":\"Text\"}, inplace = True)\n",
    "data.head()"
   ]
  },
  {
   "cell_type": "code",
   "execution_count": 9,
   "id": "0b579d24",
   "metadata": {},
   "outputs": [
    {
     "data": {
      "text/html": [
       "<div>\n",
       "<style scoped>\n",
       "    .dataframe tbody tr th:only-of-type {\n",
       "        vertical-align: middle;\n",
       "    }\n",
       "\n",
       "    .dataframe tbody tr th {\n",
       "        vertical-align: top;\n",
       "    }\n",
       "\n",
       "    .dataframe thead th {\n",
       "        text-align: right;\n",
       "    }\n",
       "</style>\n",
       "<table border=\"1\" class=\"dataframe\">\n",
       "  <thead>\n",
       "    <tr style=\"text-align: right;\">\n",
       "      <th></th>\n",
       "      <th>Id</th>\n",
       "      <th>Body</th>\n",
       "    </tr>\n",
       "  </thead>\n",
       "  <tbody>\n",
       "    <tr>\n",
       "      <th>0</th>\n",
       "      <td>1</td>\n",
       "      <td>Thank you! I just sent a hold time.  I will ca...</td>\n",
       "    </tr>\n",
       "    <tr>\n",
       "      <th>1</th>\n",
       "      <td>2</td>\n",
       "      <td>Over the past 8 months, System Planning has be...</td>\n",
       "    </tr>\n",
       "    <tr>\n",
       "      <th>2</th>\n",
       "      <td>3</td>\n",
       "      <td>_________________________________________...</td>\n",
       "    </tr>\n",
       "    <tr>\n",
       "      <th>3</th>\n",
       "      <td>4</td>\n",
       "      <td>_______________________________...</td>\n",
       "    </tr>\n",
       "    <tr>\n",
       "      <th>4</th>\n",
       "      <td>5</td>\n",
       "      <td>One I confirm a date and time with Julie, I wi...</td>\n",
       "    </tr>\n",
       "  </tbody>\n",
       "</table>\n",
       "</div>"
      ],
      "text/plain": [
       "   Id                                               Body\n",
       "0   1  Thank you! I just sent a hold time.  I will ca...\n",
       "1   2  Over the past 8 months, System Planning has be...\n",
       "2   3       _________________________________________...\n",
       "3   4                 _______________________________...\n",
       "4   5  One I confirm a date and time with Julie, I wi..."
      ]
     },
     "execution_count": 9,
     "metadata": {},
     "output_type": "execute_result"
    }
   ],
   "source": [
    "valid_data.head()"
   ]
  },
  {
   "cell_type": "code",
   "execution_count": 10,
   "id": "9a9363b4",
   "metadata": {},
   "outputs": [
    {
     "data": {
      "text/plain": [
       "pandas.core.series.Series"
      ]
     },
     "execution_count": 10,
     "metadata": {},
     "output_type": "execute_result"
    }
   ],
   "source": [
    "type(data[\"Text\"])"
   ]
  },
  {
   "cell_type": "code",
   "execution_count": 11,
   "id": "fb380bc8",
   "metadata": {},
   "outputs": [
    {
     "name": "stdout",
     "output_type": "stream",
     "text": [
      "<class 'pandas.core.frame.DataFrame'>\n",
      "RangeIndex: 4898 entries, 0 to 4897\n",
      "Data columns (total 2 columns):\n",
      " #   Column  Non-Null Count  Dtype \n",
      "---  ------  --------------  ----- \n",
      " 0   Id      4898 non-null   int64 \n",
      " 1   Body    4898 non-null   object\n",
      "dtypes: int64(1), object(1)\n",
      "memory usage: 76.7+ KB\n"
     ]
    }
   ],
   "source": [
    "valid_data[\"Body\"]=valid_data[\"Body\"].apply(str)\n",
    "valid_data.info()"
   ]
  },
  {
   "cell_type": "code",
   "execution_count": 12,
   "id": "3e33073f",
   "metadata": {},
   "outputs": [
    {
     "data": {
      "text/html": [
       "<div>\n",
       "<style scoped>\n",
       "    .dataframe tbody tr th:only-of-type {\n",
       "        vertical-align: middle;\n",
       "    }\n",
       "\n",
       "    .dataframe tbody tr th {\n",
       "        vertical-align: top;\n",
       "    }\n",
       "\n",
       "    .dataframe thead th {\n",
       "        text-align: right;\n",
       "    }\n",
       "</style>\n",
       "<table border=\"1\" class=\"dataframe\">\n",
       "  <thead>\n",
       "    <tr style=\"text-align: right;\">\n",
       "      <th></th>\n",
       "      <th>Id</th>\n",
       "      <th>Body</th>\n",
       "    </tr>\n",
       "  </thead>\n",
       "  <tbody>\n",
       "    <tr>\n",
       "      <th>0</th>\n",
       "      <td>1</td>\n",
       "      <td>Thank you! I just sent a hold time.  I will ca...</td>\n",
       "    </tr>\n",
       "    <tr>\n",
       "      <th>1</th>\n",
       "      <td>2</td>\n",
       "      <td>Over the past 8 months, System Planning has be...</td>\n",
       "    </tr>\n",
       "    <tr>\n",
       "      <th>2</th>\n",
       "      <td>3</td>\n",
       "      <td>_________________________________________...</td>\n",
       "    </tr>\n",
       "    <tr>\n",
       "      <th>3</th>\n",
       "      <td>4</td>\n",
       "      <td>_______________________________...</td>\n",
       "    </tr>\n",
       "    <tr>\n",
       "      <th>4</th>\n",
       "      <td>5</td>\n",
       "      <td>One I confirm a date and time with Julie, I wi...</td>\n",
       "    </tr>\n",
       "  </tbody>\n",
       "</table>\n",
       "</div>"
      ],
      "text/plain": [
       "   Id                                               Body\n",
       "0   1  Thank you! I just sent a hold time.  I will ca...\n",
       "1   2  Over the past 8 months, System Planning has be...\n",
       "2   3       _________________________________________...\n",
       "3   4                 _______________________________...\n",
       "4   5  One I confirm a date and time with Julie, I wi..."
      ]
     },
     "execution_count": 12,
     "metadata": {},
     "output_type": "execute_result"
    }
   ],
   "source": [
    "valid_data.head()"
   ]
  },
  {
   "cell_type": "code",
   "execution_count": 13,
   "id": "a4e1947f",
   "metadata": {},
   "outputs": [
    {
     "data": {
      "text/plain": [
       "pandas.core.series.Series"
      ]
     },
     "execution_count": 13,
     "metadata": {},
     "output_type": "execute_result"
    }
   ],
   "source": [
    "type(valid_data[\"Body\"])"
   ]
  },
  {
   "cell_type": "code",
   "execution_count": 14,
   "id": "729bbb57",
   "metadata": {},
   "outputs": [
    {
     "data": {
      "text/plain": [
       "Text(0, 0.5, 'Number of Data points')"
      ]
     },
     "execution_count": 14,
     "metadata": {},
     "output_type": "execute_result"
    },
    {
     "data": {
      "image/png": "[encoded data removed]",
      "text/plain": [
       "<Figure size 864x576 with 1 Axes>"
      ]
     },
     "metadata": {
      "needs_background": "light"
     },
     "output_type": "display_data"
    }
   ],
   "source": [
    "#Palette\n",
    "cols= [\"#E1F16B\", \"#E598D8\"] \n",
    "#first of all let us evaluate the target and find out if our data is imbalanced or not\n",
    "plt.figure(figsize=(12,8))\n",
    "fg = sns.countplot(x= data[\"Target\"], palette= cols)\n",
    "fg.set_title(\"Count Plot of Classes\", color=\"#58508d\")\n",
    "fg.set_xlabel(\"Classes\", color=\"#58508d\")\n",
    "fg.set_ylabel(\"Number of Data points\", color=\"#58508d\")"
   ]
  },
  {
   "cell_type": "code",
   "execution_count": 15,
   "id": "0b20662e",
   "metadata": {},
   "outputs": [],
   "source": [
    "#Adding a column of numbers of characters,words and sentences in each msg\n",
    "data[\"No_of_Characters\"] = data[\"Text\"].apply(len)\n",
    "#Adding a column of numbers of characters,words and sentences in each msg\n",
    "valid_data[\"No_of_Characters\"]=valid_data[\"Body\"].apply(len)"
   ]
  },
  {
   "cell_type": "code",
   "execution_count": 16,
   "id": "e38d2905",
   "metadata": {},
   "outputs": [],
   "source": [
    "data[\"No_of_Words\"]=data.apply(lambda row: nltk.word_tokenize(row[\"Text\"]), axis=1).apply(len)\n",
    "valid_data[\"No_of_Words\"]=valid_data.apply(lambda row: nltk.word_tokenize(row[\"Body\"]), axis=1).apply(len)"
   ]
  },
  {
   "cell_type": "code",
   "execution_count": 17,
   "id": "59c606a2",
   "metadata": {},
   "outputs": [],
   "source": [
    "data[\"No_of_sentence\"]=data.apply(lambda row: nltk.sent_tokenize(row[\"Text\"]), axis=1).apply(len)\n",
    "valid_data[\"No_of_sentence\"]=valid_data.apply(lambda row: nltk.sent_tokenize(row[\"Body\"]), axis=1).apply(len)"
   ]
  },
  {
   "cell_type": "code",
   "execution_count": 18,
   "id": "1cdb0e42",
   "metadata": {},
   "outputs": [
    {
     "data": {
      "text/html": [
       "<div>\n",
       "<style scoped>\n",
       "    .dataframe tbody tr th:only-of-type {\n",
       "        vertical-align: middle;\n",
       "    }\n",
       "\n",
       "    .dataframe tbody tr th {\n",
       "        vertical-align: top;\n",
       "    }\n",
       "\n",
       "    .dataframe thead th {\n",
       "        text-align: right;\n",
       "    }\n",
       "</style>\n",
       "<table border=\"1\" class=\"dataframe\">\n",
       "  <thead>\n",
       "    <tr style=\"text-align: right;\">\n",
       "      <th></th>\n",
       "      <th>count</th>\n",
       "      <th>mean</th>\n",
       "      <th>std</th>\n",
       "      <th>min</th>\n",
       "      <th>25%</th>\n",
       "      <th>50%</th>\n",
       "      <th>75%</th>\n",
       "      <th>max</th>\n",
       "    </tr>\n",
       "  </thead>\n",
       "  <tbody>\n",
       "    <tr>\n",
       "      <th>No_of_Characters</th>\n",
       "      <td>10743.0</td>\n",
       "      <td>546.152378</td>\n",
       "      <td>1166.368879</td>\n",
       "      <td>2.0</td>\n",
       "      <td>55.0</td>\n",
       "      <td>142.0</td>\n",
       "      <td>510.5</td>\n",
       "      <td>32258.0</td>\n",
       "    </tr>\n",
       "    <tr>\n",
       "      <th>No_of_Words</th>\n",
       "      <td>10743.0</td>\n",
       "      <td>120.012194</td>\n",
       "      <td>256.227140</td>\n",
       "      <td>1.0</td>\n",
       "      <td>13.0</td>\n",
       "      <td>30.0</td>\n",
       "      <td>115.0</td>\n",
       "      <td>8863.0</td>\n",
       "    </tr>\n",
       "    <tr>\n",
       "      <th>No_of_sentence</th>\n",
       "      <td>10743.0</td>\n",
       "      <td>7.311645</td>\n",
       "      <td>19.219127</td>\n",
       "      <td>1.0</td>\n",
       "      <td>1.0</td>\n",
       "      <td>3.0</td>\n",
       "      <td>7.0</td>\n",
       "      <td>1204.0</td>\n",
       "    </tr>\n",
       "  </tbody>\n",
       "</table>\n",
       "</div>"
      ],
      "text/plain": [
       "                    count        mean          std  min   25%    50%    75%  \\\n",
       "No_of_Characters  10743.0  546.152378  1166.368879  2.0  55.0  142.0  510.5   \n",
       "No_of_Words       10743.0  120.012194   256.227140  1.0  13.0   30.0  115.0   \n",
       "No_of_sentence    10743.0    7.311645    19.219127  1.0   1.0    3.0    7.0   \n",
       "\n",
       "                      max  \n",
       "No_of_Characters  32258.0  \n",
       "No_of_Words        8863.0  \n",
       "No_of_sentence     1204.0  "
      ]
     },
     "execution_count": 18,
     "metadata": {},
     "output_type": "execute_result"
    }
   ],
   "source": [
    "data.describe().T"
   ]
  },
  {
   "cell_type": "code",
   "execution_count": 19,
   "id": "c686da77",
   "metadata": {},
   "outputs": [
    {
     "data": {
      "text/html": [
       "<div>\n",
       "<style scoped>\n",
       "    .dataframe tbody tr th:only-of-type {\n",
       "        vertical-align: middle;\n",
       "    }\n",
       "\n",
       "    .dataframe tbody tr th {\n",
       "        vertical-align: top;\n",
       "    }\n",
       "\n",
       "    .dataframe thead th {\n",
       "        text-align: right;\n",
       "    }\n",
       "</style>\n",
       "<table border=\"1\" class=\"dataframe\">\n",
       "  <thead>\n",
       "    <tr style=\"text-align: right;\">\n",
       "      <th></th>\n",
       "      <th>count</th>\n",
       "      <th>mean</th>\n",
       "      <th>std</th>\n",
       "      <th>min</th>\n",
       "      <th>25%</th>\n",
       "      <th>50%</th>\n",
       "      <th>75%</th>\n",
       "      <th>max</th>\n",
       "    </tr>\n",
       "  </thead>\n",
       "  <tbody>\n",
       "    <tr>\n",
       "      <th>Id</th>\n",
       "      <td>4898.0</td>\n",
       "      <td>2449.500000</td>\n",
       "      <td>1414.075139</td>\n",
       "      <td>1.0</td>\n",
       "      <td>1225.25</td>\n",
       "      <td>2449.5</td>\n",
       "      <td>3673.75</td>\n",
       "      <td>4898.0</td>\n",
       "    </tr>\n",
       "    <tr>\n",
       "      <th>No_of_Characters</th>\n",
       "      <td>4898.0</td>\n",
       "      <td>2353.245406</td>\n",
       "      <td>3155.931205</td>\n",
       "      <td>2.0</td>\n",
       "      <td>494.25</td>\n",
       "      <td>1422.0</td>\n",
       "      <td>2977.25</td>\n",
       "      <td>30941.0</td>\n",
       "    </tr>\n",
       "    <tr>\n",
       "      <th>No_of_Words</th>\n",
       "      <td>4898.0</td>\n",
       "      <td>395.364230</td>\n",
       "      <td>553.440433</td>\n",
       "      <td>0.0</td>\n",
       "      <td>83.00</td>\n",
       "      <td>201.0</td>\n",
       "      <td>510.75</td>\n",
       "      <td>6365.0</td>\n",
       "    </tr>\n",
       "    <tr>\n",
       "      <th>No_of_sentence</th>\n",
       "      <td>4898.0</td>\n",
       "      <td>14.163944</td>\n",
       "      <td>22.948680</td>\n",
       "      <td>0.0</td>\n",
       "      <td>2.00</td>\n",
       "      <td>6.0</td>\n",
       "      <td>16.00</td>\n",
       "      <td>215.0</td>\n",
       "    </tr>\n",
       "  </tbody>\n",
       "</table>\n",
       "</div>"
      ],
      "text/plain": [
       "                   count         mean          std  min      25%     50%  \\\n",
       "Id                4898.0  2449.500000  1414.075139  1.0  1225.25  2449.5   \n",
       "No_of_Characters  4898.0  2353.245406  3155.931205  2.0   494.25  1422.0   \n",
       "No_of_Words       4898.0   395.364230   553.440433  0.0    83.00   201.0   \n",
       "No_of_sentence    4898.0    14.163944    22.948680  0.0     2.00     6.0   \n",
       "\n",
       "                      75%      max  \n",
       "Id                3673.75   4898.0  \n",
       "No_of_Characters  2977.25  30941.0  \n",
       "No_of_Words        510.75   6365.0  \n",
       "No_of_sentence      16.00    215.0  "
      ]
     },
     "execution_count": 19,
     "metadata": {},
     "output_type": "execute_result"
    }
   ],
   "source": [
    "valid_data.describe().T"
   ]
  },
  {
   "cell_type": "code",
   "execution_count": 20,
   "id": "04714947",
   "metadata": {},
   "outputs": [
    {
     "data": {
      "text/plain": [
       "<Figure size 864x576 with 0 Axes>"
      ]
     },
     "metadata": {},
     "output_type": "display_data"
    },
    {
     "data": {
      "image/png": "[encoded data removed]",
      "text/plain": [
       "<Figure size 603.25x540 with 12 Axes>"
      ]
     },
     "metadata": {
      "needs_background": "light"
     },
     "output_type": "display_data"
    }
   ],
   "source": [
    "#Dropping Outliers\n",
    "plt.figure(figsize=(12,8))\n",
    "fg = sns.pairplot(data=data, hue=\"Target\",palette=cols)\n",
    "plt.show(fg)"
   ]
  },
  {
   "cell_type": "code",
   "execution_count": 21,
   "id": "ba366426",
   "metadata": {},
   "outputs": [
    {
     "data": {
      "text/plain": [
       "(7325, 5)"
      ]
     },
     "execution_count": 21,
     "metadata": {},
     "output_type": "execute_result"
    }
   ],
   "source": [
    "#data = data[(data[\"No_of_Characters\"]<350)]\n",
    "#data.shape"
   ]
  },
  {
   "cell_type": "code",
   "execution_count": 22,
   "id": "7fa447c1",
   "metadata": {},
   "outputs": [
    {
     "data": {
      "text/plain": [
       "<Figure size 864x576 with 0 Axes>"
      ]
     },
     "metadata": {},
     "output_type": "display_data"
    },
    {
     "data": {
      "image/png": "[encoded data removed]",
      "text/plain": [
       "<Figure size 603.25x540 with 12 Axes>"
      ]
     },
     "metadata": {
      "needs_background": "light"
     },
     "output_type": "display_data"
    }
   ],
   "source": [
    "plt.figure(figsize=(12,8))\n",
    "fg = sns.pairplot(data=data, hue=\"Target\",palette=cols)\n",
    "plt.show(fg)"
   ]
  },
  {
   "cell_type": "markdown",
   "id": "8bf3890c",
   "metadata": {},
   "source": [
    "### Data preprocessing"
   ]
  },
  {
   "cell_type": "code",
   "execution_count": 20,
   "id": "ae186961",
   "metadata": {},
   "outputs": [
    {
     "name": "stdout",
     "output_type": "stream",
     "text": [
      "\u001b[1m\u001b[45;1m The First 5 Texts:\u001b[0m\n",
      "Go until jurong point, crazy.. Available only in bugis n great world la e buffet... Cine there got amore wat...\n",
      "Ok lar... Joking wif u oni...\n",
      "Free entry in 2 a wkly comp to win FA Cup final tkts 21st May 2005. Text FA to 87121 to receive entry question(std txt rate)T&C's apply 08452810075over18's\n",
      "U dun say so early hor... U c already then say...\n",
      "Nah I don't think he goes to usf, he lives around here though\n"
     ]
    }
   ],
   "source": [
    "#Lets have a look at a sample of texts before cleaning\n",
    "print(\"\\033[1m\\u001b[45;1m The First 5 Texts:\\033[0m\",*data[\"Text\"][:5], sep = \"\\n\")"
   ]
  },
  {
   "cell_type": "code",
   "execution_count": 21,
   "id": "c58d66ad",
   "metadata": {},
   "outputs": [
    {
     "name": "stdout",
     "output_type": "stream",
     "text": [
      "\u001b[1m\u001b[45;1m The First 5 Texts:\u001b[0m\n",
      "Thank you! I just sent a hold time.  I will cancel if we decide we don?t need.         From: Mohdhafi Agdern <email@yyyy.zzz>   Sent: Friday, November 19, 2021 1:33 PM  To: Brandon Aristeo Akcali <email@yyyy.zzz>  Cc: Suchit Aiyer <email@yyyy.zzz>  Subject: [EXT]Re: December meeting request              ________________________________    Hi Brandon,         Ram can meet on the 21st or 22nd for half an hour on any time between 7am PT to 9am.         Let me know if a time in there works for you, and we can potentially invite Oskar and Chad.         Regards,'              Mohdhafi Agdern    Civil & Environmental Engineering    Jerry Yang & Akiko Yamazaki Environment & Energy Building    473 Via Ortega    Stanford, CA 94305    ###-###-#### (m)         ________________________________    From: Brandon Aristeo Akcali <email@yyyy.zzz <mailto:email@yyyy.zzz> >  Sent: Friday, November 19, 2021 10:01 AM  To: Mohdhafi Agdern <email@yyyy.zzz <mailto:email@yyyy.zzz> >  Cc: Suchit Aiyer <email@yyyy.zzz <mailto:email@yyyy.zzz> >  Subject: December meeting request          Tiffany,         I hope you are doing well. I was hoping you could suggest 2-3 options of time for a meeting with Ram to go over the NDA language with our Legal and Supply Mgmt team.  I am thinking the week of Dec 13th or 20th would be good targets.           This way we can get a hold out there.  Ram - please let us know if Oskar and Chad should be invited.          Thank you!    Brandon Aristeo Akcali    \n",
      "Over the past 8 months, System Planning has been partnering with Energy Exemplar (https://www.energyexemplar.com/) exploring technology solutions to our business needs. Some of the joint developments are: renewable generation modeling in production cost analysis tool, enhanced adjusted production cost calculation, congestion insight tool, 5-minute dispatch capability.          While we still have more work to do, we also recognized other potentials Energy Exemplar brings span beyond transmission planning. Jordan and I would like to invite you to explore if Energy Exemplar can help with your business area needs in the future.          A separate calendar invite will be sent shortly for the last week of February. We also hope to connect ccac sales and Energy Exemplar's executive leadership teams to share vision forward collectively. Jordan and I will leverage our internal brainstorming session from January to shape the joint conversation.          Thanks and happy holiday to all of you,    BeiLi and Jordan         \n",
      "     ________________________________________________________________________________     Microsoft Teams meeting     Join on your computer or mobile app     Click here to join the meeting <https://teams.microsoft.com/l/meetup-join/19%3ameeting_YmNhZDE1NTctYmI1Yy00ZjU3LWFjMzgtOTJkZjE5ZTY5MmVk%40thread.v2/0?context=%7b%22Tid%22%3a%226040915b-9dff-4d47-bb35-8ac9c9a5dc18%22%2c%22Oid%22%3a%226e9ce819-8b1b-4df2-9c2a-b8fbd0bc5be5%22%7d>      Join with a video conferencing device     email@yyyy.zzz <mailto:email@yyyy.zzz>      Video Conference ID: 118 648 469 7     Alternate VTC instructions <https://pexip.me/teams/meet.ccac sales/1186484697>      Or call in (audio only)     +1 ###-###-####,,720825917# <tel:+12192934405,,720825917#>    United States, Gary     Phone Conference ID: 720 825 917#     Find a local number <https://dialin.teams.microsoft.com/11ba3dc2-a2d2-45b1-a89b-64c09a35cbbf?id=720825917>  | Reset PIN <https://mysettings.lync.com/pstnconferencing>      Learn More <https://aka.ms/JoinTeamsMeeting>  | Meeting options <https://teams.microsoft.com/meetingOptions/?organizerId=6e9ce819-8b1b-4df2-9c2a-b8fbd0bc5be5&tenantId=6040915b-9dff-4d47-bb35-8ac9c9a5dc18&threadId=19_meeting_YmNhZDE1NTctYmI1Yy00ZjU3LWFjMzgtOTJkZjE5ZTY5MmVk@thread.v2&messageId=0&language=en-US>      ________________________________________________________________________________          \n",
      "               ________________________________________________________________________________     Microsoft Teams meeting     Join on your computer or mobile app     Click here to join the meeting <https://teams.microsoft.com/l/meetup-join/19%3ameeting_OWU1YmRkOTEtNGYyMi00MDhlLThjYTctMzg0YTUwMGU2OWFm%40thread.v2/0?context=%7b%22Tid%22%3a%226040915b-9dff-4d47-bb35-8ac9c9a5dc18%22%2c%22Oid%22%3a%228ae4a922-71ef-42b9-bda8-e30b0c776fd1%22%7d>      Or call in (audio only)     +1 219-293-4405,,288049609# <tel:+12192934405,,288049609#>    United States, Gary     Phone Conference ID: 288 049 609#     Find a local number <https://dialin.teams.microsoft.com/11ba3dc2-a2d2-45b1-a89b-64c09a35cbbf?id=288049609>  | Reset PIN <https://mysettings.lync.com/pstnconferencing>      Learn More <https://aka.ms/JoinTeamsMeeting>  | Meeting options <https://teams.microsoft.com/meetingOptions/?organizerId=8ae4a922-71ef-42b9-bda8-e30b0c776fd1&tenantId=6040915b-9dff-4d47-bb35-8ac9c9a5dc18&threadId=19_meeting_OWU1YmRkOTEtNGYyMi00MDhlLThjYTctMzg0YTUwMGU2OWFm@thread.v2&messageId=0&language=en-US>      ________________________________________________________________________________     \n",
      "One I confirm a date and time with Julie, I will update the ?holds?.      \n"
     ]
    }
   ],
   "source": [
    "print(\"\\033[1m\\u001b[45;1m The First 5 Texts:\\033[0m\",*valid_data[\"Body\"][:5], sep = \"\\n\")"
   ]
  },
  {
   "cell_type": "code",
   "execution_count": 22,
   "id": "8c10d856",
   "metadata": {},
   "outputs": [
    {
     "name": "stdout",
     "output_type": "stream",
     "text": [
      "\u001b[1m\u001b[45;1m The First 5 Texts after cleaning:\u001b[0m\n",
      "go until jurong point crazy available only in bugis n great world la e buffet cine there got amore wat\n",
      "ok lar joking wif u oni\n",
      "free entry in a wkly comp to win fa cup final tkts st may text fa to to receive entry question std txt rate t c s apply over s\n",
      "u dun say so early hor u c already then say\n",
      "nah i don t think he goes to usf he lives around here though\n"
     ]
    }
   ],
   "source": [
    "# Defining a function to clean up the text\n",
    "def Clean(Text):\n",
    "    sms = re.sub('[^a-zA-Z]', ' ', Text) #Replacing all non-alphabetic characters with a space\n",
    "    sms = sms.lower() #converting to lowecase\n",
    "    sms = sms.split()\n",
    "    sms = ' '.join(sms)\n",
    "    return sms\n",
    "\n",
    "data[\"Clean_Text\"] = data[\"Text\"].apply(Clean)\n",
    "#Lets have a look at a sample of texts after cleaning\n",
    "print(\"\\033[1m\\u001b[45;1m The First 5 Texts after cleaning:\\033[0m\",*data[\"Clean_Text\"][:5], sep = \"\\n\")"
   ]
  },
  {
   "cell_type": "code",
   "execution_count": 23,
   "id": "56379abf",
   "metadata": {},
   "outputs": [
    {
     "name": "stdout",
     "output_type": "stream",
     "text": [
      "\u001b[1m\u001b[45;1m The First 5 Texts after cleaning:\u001b[0m\n",
      "thank you i just sent a hold time i will cancel if we decide we don t need from mohdhafi agdern email yyyy zzz sent friday november pm to brandon aristeo akcali email yyyy zzz cc suchit aiyer email yyyy zzz subject ext re december meeting request hi brandon ram can meet on the st or nd for half an hour on any time between am pt to am let me know if a time in there works for you and we can potentially invite oskar and chad regards mohdhafi agdern civil environmental engineering jerry yang akiko yamazaki environment energy building via ortega stanford ca m from brandon aristeo akcali email yyyy zzz mailto email yyyy zzz sent friday november am to mohdhafi agdern email yyyy zzz mailto email yyyy zzz cc suchit aiyer email yyyy zzz mailto email yyyy zzz subject december meeting request tiffany i hope you are doing well i was hoping you could suggest options of time for a meeting with ram to go over the nda language with our legal and supply mgmt team i am thinking the week of dec th or th would be good targets this way we can get a hold out there ram please let us know if oskar and chad should be invited thank you brandon aristeo akcali\n",
      "over the past months system planning has been partnering with energy exemplar https www energyexemplar com exploring technology solutions to our business needs some of the joint developments are renewable generation modeling in production cost analysis tool enhanced adjusted production cost calculation congestion insight tool minute dispatch capability while we still have more work to do we also recognized other potentials energy exemplar brings span beyond transmission planning jordan and i would like to invite you to explore if energy exemplar can help with your business area needs in the future a separate calendar invite will be sent shortly for the last week of february we also hope to connect ccac sales and energy exemplar s executive leadership teams to share vision forward collectively jordan and i will leverage our internal brainstorming session from january to shape the joint conversation thanks and happy holiday to all of you beili and jordan\n",
      "microsoft teams meeting join on your computer or mobile app click here to join the meeting https teams microsoft com l meetup join ameeting ymnhzde ntctymi yy zju lwfjmzgtotjkzje zty mmvk thread v context b tid a b dff d bb ac c a dc c oid a e ce b b df c a b fbd bc be d join with a video conferencing device email yyyy zzz mailto email yyyy zzz video conference id alternate vtc instructions https pexip me teams meet ccac sales or call in audio only tel united states gary phone conference id find a local number https dialin teams microsoft com ba dc a d b a b c a cbbf id reset pin https mysettings lync com pstnconferencing learn more https aka ms jointeamsmeeting meeting options https teams microsoft com meetingoptions organizerid e ce b b df c a b fbd bc be tenantid b dff d bb ac c a dc threadid meeting ymnhzde ntctymi yy zju lwfjmzgtotjkzje zty mmvk thread v messageid language en us\n",
      "microsoft teams meeting join on your computer or mobile app click here to join the meeting https teams microsoft com l meetup join ameeting owu ymrkotetngyymi mdhllthjytctmzg ytuwmgu owfm thread v context b tid a b dff d bb ac c a dc c oid a ae a ef b bda e b c fd d or call in audio only tel united states gary phone conference id find a local number https dialin teams microsoft com ba dc a d b a b c a cbbf id reset pin https mysettings lync com pstnconferencing learn more https aka ms jointeamsmeeting meeting options https teams microsoft com meetingoptions organizerid ae a ef b bda e b c fd tenantid b dff d bb ac c a dc threadid meeting owu ymrkotetngyymi mdhllthjytctmzg ytuwmgu owfm thread v messageid language en us\n",
      "one i confirm a date and time with julie i will update the holds\n"
     ]
    }
   ],
   "source": [
    "valid_data[\"Clean_Text\"] = valid_data[\"Body\"].apply(Clean)\n",
    "print(\"\\033[1m\\u001b[45;1m The First 5 Texts after cleaning:\\033[0m\",*valid_data[\"Clean_Text\"][:5], sep = \"\\n\")"
   ]
  },
  {
   "cell_type": "markdown",
   "id": "66a723a1",
   "metadata": {},
   "source": [
    "#### Tokenization is breaking complex data into smaller units called tokens. It can be done by splitting paragraphs into sentences and sentences into words. I am splitting the Clean_Text into words at this step."
   ]
  },
  {
   "cell_type": "code",
   "execution_count": 24,
   "id": "abdb99c4",
   "metadata": {},
   "outputs": [
    {
     "name": "stdout",
     "output_type": "stream",
     "text": [
      "\u001b[1m\u001b[45;1m The First 5 Texts after Tokenizing:\u001b[0m\n",
      "['go', 'until', 'jurong', 'point', 'crazy', 'available', 'only', 'in', 'bugis', 'n', 'great', 'world', 'la', 'e', 'buffet', 'cine', 'there', 'got', 'amore', 'wat']\n",
      "['ok', 'lar', 'joking', 'wif', 'u', 'oni']\n",
      "['free', 'entry', 'in', 'a', 'wkly', 'comp', 'to', 'win', 'fa', 'cup', 'final', 'tkts', 'st', 'may', 'text', 'fa', 'to', 'to', 'receive', 'entry', 'question', 'std', 'txt', 'rate', 't', 'c', 's', 'apply', 'over', 's']\n",
      "['u', 'dun', 'say', 'so', 'early', 'hor', 'u', 'c', 'already', 'then', 'say']\n",
      "['nah', 'i', 'don', 't', 'think', 'he', 'goes', 'to', 'usf', 'he', 'lives', 'around', 'here', 'though']\n"
     ]
    }
   ],
   "source": [
    "data[\"Tokenize_Text\"]=data.apply(lambda row: nltk.word_tokenize(row[\"Clean_Text\"]), axis=1)\n",
    "\n",
    "print(\"\\033[1m\\u001b[45;1m The First 5 Texts after Tokenizing:\\033[0m\",*data[\"Tokenize_Text\"][:5], sep = \"\\n\")"
   ]
  },
  {
   "cell_type": "code",
   "execution_count": 25,
   "id": "71d2681b",
   "metadata": {},
   "outputs": [
    {
     "name": "stdout",
     "output_type": "stream",
     "text": [
      "\u001b[1m\u001b[45;1m The First 5 Texts after Tokenizing:\u001b[0m\n",
      "['thank', 'you', 'i', 'just', 'sent', 'a', 'hold', 'time', 'i', 'will', 'cancel', 'if', 'we', 'decide', 'we', 'don', 't', 'need', 'from', 'mohdhafi', 'agdern', 'email', 'yyyy', 'zzz', 'sent', 'friday', 'november', 'pm', 'to', 'brandon', 'aristeo', 'akcali', 'email', 'yyyy', 'zzz', 'cc', 'suchit', 'aiyer', 'email', 'yyyy', 'zzz', 'subject', 'ext', 're', 'december', 'meeting', 'request', 'hi', 'brandon', 'ram', 'can', 'meet', 'on', 'the', 'st', 'or', 'nd', 'for', 'half', 'an', 'hour', 'on', 'any', 'time', 'between', 'am', 'pt', 'to', 'am', 'let', 'me', 'know', 'if', 'a', 'time', 'in', 'there', 'works', 'for', 'you', 'and', 'we', 'can', 'potentially', 'invite', 'oskar', 'and', 'chad', 'regards', 'mohdhafi', 'agdern', 'civil', 'environmental', 'engineering', 'jerry', 'yang', 'akiko', 'yamazaki', 'environment', 'energy', 'building', 'via', 'ortega', 'stanford', 'ca', 'm', 'from', 'brandon', 'aristeo', 'akcali', 'email', 'yyyy', 'zzz', 'mailto', 'email', 'yyyy', 'zzz', 'sent', 'friday', 'november', 'am', 'to', 'mohdhafi', 'agdern', 'email', 'yyyy', 'zzz', 'mailto', 'email', 'yyyy', 'zzz', 'cc', 'suchit', 'aiyer', 'email', 'yyyy', 'zzz', 'mailto', 'email', 'yyyy', 'zzz', 'subject', 'december', 'meeting', 'request', 'tiffany', 'i', 'hope', 'you', 'are', 'doing', 'well', 'i', 'was', 'hoping', 'you', 'could', 'suggest', 'options', 'of', 'time', 'for', 'a', 'meeting', 'with', 'ram', 'to', 'go', 'over', 'the', 'nda', 'language', 'with', 'our', 'legal', 'and', 'supply', 'mgmt', 'team', 'i', 'am', 'thinking', 'the', 'week', 'of', 'dec', 'th', 'or', 'th', 'would', 'be', 'good', 'targets', 'this', 'way', 'we', 'can', 'get', 'a', 'hold', 'out', 'there', 'ram', 'please', 'let', 'us', 'know', 'if', 'oskar', 'and', 'chad', 'should', 'be', 'invited', 'thank', 'you', 'brandon', 'aristeo', 'akcali']\n",
      "['over', 'the', 'past', 'months', 'system', 'planning', 'has', 'been', 'partnering', 'with', 'energy', 'exemplar', 'https', 'www', 'energyexemplar', 'com', 'exploring', 'technology', 'solutions', 'to', 'our', 'business', 'needs', 'some', 'of', 'the', 'joint', 'developments', 'are', 'renewable', 'generation', 'modeling', 'in', 'production', 'cost', 'analysis', 'tool', 'enhanced', 'adjusted', 'production', 'cost', 'calculation', 'congestion', 'insight', 'tool', 'minute', 'dispatch', 'capability', 'while', 'we', 'still', 'have', 'more', 'work', 'to', 'do', 'we', 'also', 'recognized', 'other', 'potentials', 'energy', 'exemplar', 'brings', 'span', 'beyond', 'transmission', 'planning', 'jordan', 'and', 'i', 'would', 'like', 'to', 'invite', 'you', 'to', 'explore', 'if', 'energy', 'exemplar', 'can', 'help', 'with', 'your', 'business', 'area', 'needs', 'in', 'the', 'future', 'a', 'separate', 'calendar', 'invite', 'will', 'be', 'sent', 'shortly', 'for', 'the', 'last', 'week', 'of', 'february', 'we', 'also', 'hope', 'to', 'connect', 'ccac', 'sales', 'and', 'energy', 'exemplar', 's', 'executive', 'leadership', 'teams', 'to', 'share', 'vision', 'forward', 'collectively', 'jordan', 'and', 'i', 'will', 'leverage', 'our', 'internal', 'brainstorming', 'session', 'from', 'january', 'to', 'shape', 'the', 'joint', 'conversation', 'thanks', 'and', 'happy', 'holiday', 'to', 'all', 'of', 'you', 'beili', 'and', 'jordan']\n",
      "['microsoft', 'teams', 'meeting', 'join', 'on', 'your', 'computer', 'or', 'mobile', 'app', 'click', 'here', 'to', 'join', 'the', 'meeting', 'https', 'teams', 'microsoft', 'com', 'l', 'meetup', 'join', 'ameeting', 'ymnhzde', 'ntctymi', 'yy', 'zju', 'lwfjmzgtotjkzje', 'zty', 'mmvk', 'thread', 'v', 'context', 'b', 'tid', 'a', 'b', 'dff', 'd', 'bb', 'ac', 'c', 'a', 'dc', 'c', 'oid', 'a', 'e', 'ce', 'b', 'b', 'df', 'c', 'a', 'b', 'fbd', 'bc', 'be', 'd', 'join', 'with', 'a', 'video', 'conferencing', 'device', 'email', 'yyyy', 'zzz', 'mailto', 'email', 'yyyy', 'zzz', 'video', 'conference', 'id', 'alternate', 'vtc', 'instructions', 'https', 'pexip', 'me', 'teams', 'meet', 'ccac', 'sales', 'or', 'call', 'in', 'audio', 'only', 'tel', 'united', 'states', 'gary', 'phone', 'conference', 'id', 'find', 'a', 'local', 'number', 'https', 'dialin', 'teams', 'microsoft', 'com', 'ba', 'dc', 'a', 'd', 'b', 'a', 'b', 'c', 'a', 'cbbf', 'id', 'reset', 'pin', 'https', 'mysettings', 'lync', 'com', 'pstnconferencing', 'learn', 'more', 'https', 'aka', 'ms', 'jointeamsmeeting', 'meeting', 'options', 'https', 'teams', 'microsoft', 'com', 'meetingoptions', 'organizerid', 'e', 'ce', 'b', 'b', 'df', 'c', 'a', 'b', 'fbd', 'bc', 'be', 'tenantid', 'b', 'dff', 'd', 'bb', 'ac', 'c', 'a', 'dc', 'threadid', 'meeting', 'ymnhzde', 'ntctymi', 'yy', 'zju', 'lwfjmzgtotjkzje', 'zty', 'mmvk', 'thread', 'v', 'messageid', 'language', 'en', 'us']\n",
      "['microsoft', 'teams', 'meeting', 'join', 'on', 'your', 'computer', 'or', 'mobile', 'app', 'click', 'here', 'to', 'join', 'the', 'meeting', 'https', 'teams', 'microsoft', 'com', 'l', 'meetup', 'join', 'ameeting', 'owu', 'ymrkotetngyymi', 'mdhllthjytctmzg', 'ytuwmgu', 'owfm', 'thread', 'v', 'context', 'b', 'tid', 'a', 'b', 'dff', 'd', 'bb', 'ac', 'c', 'a', 'dc', 'c', 'oid', 'a', 'ae', 'a', 'ef', 'b', 'bda', 'e', 'b', 'c', 'fd', 'd', 'or', 'call', 'in', 'audio', 'only', 'tel', 'united', 'states', 'gary', 'phone', 'conference', 'id', 'find', 'a', 'local', 'number', 'https', 'dialin', 'teams', 'microsoft', 'com', 'ba', 'dc', 'a', 'd', 'b', 'a', 'b', 'c', 'a', 'cbbf', 'id', 'reset', 'pin', 'https', 'mysettings', 'lync', 'com', 'pstnconferencing', 'learn', 'more', 'https', 'aka', 'ms', 'jointeamsmeeting', 'meeting', 'options', 'https', 'teams', 'microsoft', 'com', 'meetingoptions', 'organizerid', 'ae', 'a', 'ef', 'b', 'bda', 'e', 'b', 'c', 'fd', 'tenantid', 'b', 'dff', 'd', 'bb', 'ac', 'c', 'a', 'dc', 'threadid', 'meeting', 'owu', 'ymrkotetngyymi', 'mdhllthjytctmzg', 'ytuwmgu', 'owfm', 'thread', 'v', 'messageid', 'language', 'en', 'us']\n",
      "['one', 'i', 'confirm', 'a', 'date', 'and', 'time', 'with', 'julie', 'i', 'will', 'update', 'the', 'holds']\n"
     ]
    }
   ],
   "source": [
    "valid_data[\"Tokenize_Text\"]=valid_data.apply(lambda row: nltk.word_tokenize(row[\"Clean_Text\"]), axis=1)\n",
    "\n",
    "print(\"\\033[1m\\u001b[45;1m The First 5 Texts after Tokenizing:\\033[0m\",*valid_data[\"Tokenize_Text\"][:5], sep = \"\\n\")"
   ]
  },
  {
   "cell_type": "markdown",
   "id": "ae969ca9",
   "metadata": {},
   "source": [
    "#### Stopwords are frequently occurring words(such as few, is, an, etc). These words hold meaning in sentence structure, but do not contribute much to language processing in NLP. For the purpose of removing redundancy in our processing, I am removing those. NLTK library has a set of default stopwords that we will be removing."
   ]
  },
  {
   "cell_type": "code",
   "execution_count": 26,
   "id": "1ca17fb4",
   "metadata": {},
   "outputs": [
    {
     "name": "stdout",
     "output_type": "stream",
     "text": [
      "\u001b[1m\u001b[45;1m The First 5 Texts after removing the stopwords:\u001b[0m\n",
      "['go', 'jurong', 'point', 'crazy', 'available', 'bugis', 'n', 'great', 'world', 'la', 'e', 'buffet', 'cine', 'got', 'amore', 'wat']\n",
      "['ok', 'lar', 'joking', 'wif', 'u', 'oni']\n",
      "['free', 'entry', 'wkly', 'comp', 'win', 'fa', 'cup', 'final', 'tkts', 'st', 'may', 'text', 'fa', 'receive', 'entry', 'question', 'std', 'txt', 'rate', 'c', 'apply']\n",
      "['u', 'dun', 'say', 'early', 'hor', 'u', 'c', 'already', 'say']\n",
      "['nah', 'think', 'goes', 'usf', 'lives', 'around', 'though']\n"
     ]
    }
   ],
   "source": [
    "# Removing the stopwords function\n",
    "def remove_stopwords(text):\n",
    "    stop_words = set(stopwords.words(\"english\"))\n",
    "    filtered_text = [word for word in text if word not in stop_words]\n",
    "    return filtered_text\n",
    "\n",
    "data[\"Nostopword_Text\"] = data[\"Tokenize_Text\"].apply(remove_stopwords)\n",
    "\n",
    "print(\"\\033[1m\\u001b[45;1m The First 5 Texts after removing the stopwords:\\033[0m\",*data[\"Nostopword_Text\"][:5], sep = \"\\n\")"
   ]
  },
  {
   "cell_type": "code",
   "execution_count": 27,
   "id": "890ef853",
   "metadata": {},
   "outputs": [
    {
     "name": "stdout",
     "output_type": "stream",
     "text": [
      "\u001b[1m\u001b[45;1m The First 5 Texts after removing the stopwords:\u001b[0m\n",
      "['thank', 'sent', 'hold', 'time', 'cancel', 'decide', 'need', 'mohdhafi', 'agdern', 'email', 'yyyy', 'zzz', 'sent', 'friday', 'november', 'pm', 'brandon', 'aristeo', 'akcali', 'email', 'yyyy', 'zzz', 'cc', 'suchit', 'aiyer', 'email', 'yyyy', 'zzz', 'subject', 'ext', 'december', 'meeting', 'request', 'hi', 'brandon', 'ram', 'meet', 'st', 'nd', 'half', 'hour', 'time', 'pt', 'let', 'know', 'time', 'works', 'potentially', 'invite', 'oskar', 'chad', 'regards', 'mohdhafi', 'agdern', 'civil', 'environmental', 'engineering', 'jerry', 'yang', 'akiko', 'yamazaki', 'environment', 'energy', 'building', 'via', 'ortega', 'stanford', 'ca', 'brandon', 'aristeo', 'akcali', 'email', 'yyyy', 'zzz', 'mailto', 'email', 'yyyy', 'zzz', 'sent', 'friday', 'november', 'mohdhafi', 'agdern', 'email', 'yyyy', 'zzz', 'mailto', 'email', 'yyyy', 'zzz', 'cc', 'suchit', 'aiyer', 'email', 'yyyy', 'zzz', 'mailto', 'email', 'yyyy', 'zzz', 'subject', 'december', 'meeting', 'request', 'tiffany', 'hope', 'well', 'hoping', 'could', 'suggest', 'options', 'time', 'meeting', 'ram', 'go', 'nda', 'language', 'legal', 'supply', 'mgmt', 'team', 'thinking', 'week', 'dec', 'th', 'th', 'would', 'good', 'targets', 'way', 'get', 'hold', 'ram', 'please', 'let', 'us', 'know', 'oskar', 'chad', 'invited', 'thank', 'brandon', 'aristeo', 'akcali']\n",
      "['past', 'months', 'system', 'planning', 'partnering', 'energy', 'exemplar', 'https', 'www', 'energyexemplar', 'com', 'exploring', 'technology', 'solutions', 'business', 'needs', 'joint', 'developments', 'renewable', 'generation', 'modeling', 'production', 'cost', 'analysis', 'tool', 'enhanced', 'adjusted', 'production', 'cost', 'calculation', 'congestion', 'insight', 'tool', 'minute', 'dispatch', 'capability', 'still', 'work', 'also', 'recognized', 'potentials', 'energy', 'exemplar', 'brings', 'span', 'beyond', 'transmission', 'planning', 'jordan', 'would', 'like', 'invite', 'explore', 'energy', 'exemplar', 'help', 'business', 'area', 'needs', 'future', 'separate', 'calendar', 'invite', 'sent', 'shortly', 'last', 'week', 'february', 'also', 'hope', 'connect', 'ccac', 'sales', 'energy', 'exemplar', 'executive', 'leadership', 'teams', 'share', 'vision', 'forward', 'collectively', 'jordan', 'leverage', 'internal', 'brainstorming', 'session', 'january', 'shape', 'joint', 'conversation', 'thanks', 'happy', 'holiday', 'beili', 'jordan']\n",
      "['microsoft', 'teams', 'meeting', 'join', 'computer', 'mobile', 'app', 'click', 'join', 'meeting', 'https', 'teams', 'microsoft', 'com', 'l', 'meetup', 'join', 'ameeting', 'ymnhzde', 'ntctymi', 'yy', 'zju', 'lwfjmzgtotjkzje', 'zty', 'mmvk', 'thread', 'v', 'context', 'b', 'tid', 'b', 'dff', 'bb', 'ac', 'c', 'dc', 'c', 'oid', 'e', 'ce', 'b', 'b', 'df', 'c', 'b', 'fbd', 'bc', 'join', 'video', 'conferencing', 'device', 'email', 'yyyy', 'zzz', 'mailto', 'email', 'yyyy', 'zzz', 'video', 'conference', 'id', 'alternate', 'vtc', 'instructions', 'https', 'pexip', 'teams', 'meet', 'ccac', 'sales', 'call', 'audio', 'tel', 'united', 'states', 'gary', 'phone', 'conference', 'id', 'find', 'local', 'number', 'https', 'dialin', 'teams', 'microsoft', 'com', 'ba', 'dc', 'b', 'b', 'c', 'cbbf', 'id', 'reset', 'pin', 'https', 'mysettings', 'lync', 'com', 'pstnconferencing', 'learn', 'https', 'aka', 'ms', 'jointeamsmeeting', 'meeting', 'options', 'https', 'teams', 'microsoft', 'com', 'meetingoptions', 'organizerid', 'e', 'ce', 'b', 'b', 'df', 'c', 'b', 'fbd', 'bc', 'tenantid', 'b', 'dff', 'bb', 'ac', 'c', 'dc', 'threadid', 'meeting', 'ymnhzde', 'ntctymi', 'yy', 'zju', 'lwfjmzgtotjkzje', 'zty', 'mmvk', 'thread', 'v', 'messageid', 'language', 'en', 'us']\n",
      "['microsoft', 'teams', 'meeting', 'join', 'computer', 'mobile', 'app', 'click', 'join', 'meeting', 'https', 'teams', 'microsoft', 'com', 'l', 'meetup', 'join', 'ameeting', 'owu', 'ymrkotetngyymi', 'mdhllthjytctmzg', 'ytuwmgu', 'owfm', 'thread', 'v', 'context', 'b', 'tid', 'b', 'dff', 'bb', 'ac', 'c', 'dc', 'c', 'oid', 'ae', 'ef', 'b', 'bda', 'e', 'b', 'c', 'fd', 'call', 'audio', 'tel', 'united', 'states', 'gary', 'phone', 'conference', 'id', 'find', 'local', 'number', 'https', 'dialin', 'teams', 'microsoft', 'com', 'ba', 'dc', 'b', 'b', 'c', 'cbbf', 'id', 'reset', 'pin', 'https', 'mysettings', 'lync', 'com', 'pstnconferencing', 'learn', 'https', 'aka', 'ms', 'jointeamsmeeting', 'meeting', 'options', 'https', 'teams', 'microsoft', 'com', 'meetingoptions', 'organizerid', 'ae', 'ef', 'b', 'bda', 'e', 'b', 'c', 'fd', 'tenantid', 'b', 'dff', 'bb', 'ac', 'c', 'dc', 'threadid', 'meeting', 'owu', 'ymrkotetngyymi', 'mdhllthjytctmzg', 'ytuwmgu', 'owfm', 'thread', 'v', 'messageid', 'language', 'en', 'us']\n",
      "['one', 'confirm', 'date', 'time', 'julie', 'update', 'holds']\n"
     ]
    }
   ],
   "source": [
    "valid_data[\"Nostopword_Text\"] = valid_data[\"Tokenize_Text\"].apply(remove_stopwords)\n",
    "\n",
    "print(\"\\033[1m\\u001b[45;1m The First 5 Texts after removing the stopwords:\\033[0m\",*valid_data[\"Nostopword_Text\"][:5], sep = \"\\n\")"
   ]
  },
  {
   "cell_type": "markdown",
   "id": "8e13acfe",
   "metadata": {},
   "source": [
    "Stemming is the process of getting the root form of a word. Stem or root is the part to which inflectional affixes are added. The stem of a word is created by removing the prefix or suffix of a word. It goes back to the etymology of the word. Languages evolve over time. Many different languages branch into each other; for example, English is a derivative of Latin. Thus, stemming a word takes it back to the root word.\n",
    "\n",
    "lemmatization also converts a word to its root form. However, the difference is that lemmatization ensures that the root word belongs to the language one is dealing with, in our case it is English. If we use lemmatization the output would be in English."
   ]
  },
  {
   "cell_type": "code",
   "execution_count": 28,
   "id": "c70ecf55",
   "metadata": {},
   "outputs": [
    {
     "name": "stdout",
     "output_type": "stream",
     "text": [
      "\u001b[1m\u001b[45;1m The First 5 Texts after lemitization:\u001b[0m\n",
      "['go', 'jurong', 'point', 'crazy', 'available', 'bugis', 'n', 'great', 'world', 'la', 'e', 'buffet', 'cine', 'get', 'amore', 'wat']\n",
      "['ok', 'lar', 'joke', 'wif', 'u', 'oni']\n",
      "['free', 'entry', 'wkly', 'comp', 'win', 'fa', 'cup', 'final', 'tkts', 'st', 'may', 'text', 'fa', 'receive', 'entry', 'question', 'std', 'txt', 'rate', 'c', 'apply']\n",
      "['u', 'dun', 'say', 'early', 'hor', 'u', 'c', 'already', 'say']\n",
      "['nah', 'think', 'go', 'usf', 'live', 'around', 'though']\n"
     ]
    }
   ],
   "source": [
    "lemmatizer = WordNetLemmatizer()\n",
    "# lemmatize string\n",
    "def lemmatize_word(text):\n",
    "    #word_tokens = word_tokenize(text)\n",
    "    # provide context i.e. part-of-speech\n",
    "    lemmas = [lemmatizer.lemmatize(word, pos ='v') for word in text]\n",
    "    return lemmas\n",
    "\n",
    "data[\"Lemmatized_Text\"] = data[\"Nostopword_Text\"].apply(lemmatize_word)\n",
    "print(\"\\033[1m\\u001b[45;1m The First 5 Texts after lemitization:\\033[0m\",*data[\"Lemmatized_Text\"][:5], sep = \"\\n\")"
   ]
  },
  {
   "cell_type": "code",
   "execution_count": 29,
   "id": "bef44738",
   "metadata": {},
   "outputs": [
    {
     "name": "stdout",
     "output_type": "stream",
     "text": [
      "\u001b[1m\u001b[45;1m The First 5 Texts after lemitization:\u001b[0m\n",
      "['thank', 'send', 'hold', 'time', 'cancel', 'decide', 'need', 'mohdhafi', 'agdern', 'email', 'yyyy', 'zzz', 'send', 'friday', 'november', 'pm', 'brandon', 'aristeo', 'akcali', 'email', 'yyyy', 'zzz', 'cc', 'suchit', 'aiyer', 'email', 'yyyy', 'zzz', 'subject', 'ext', 'december', 'meet', 'request', 'hi', 'brandon', 'ram', 'meet', 'st', 'nd', 'half', 'hour', 'time', 'pt', 'let', 'know', 'time', 'work', 'potentially', 'invite', 'oskar', 'chad', 'regard', 'mohdhafi', 'agdern', 'civil', 'environmental', 'engineer', 'jerry', 'yang', 'akiko', 'yamazaki', 'environment', 'energy', 'build', 'via', 'ortega', 'stanford', 'ca', 'brandon', 'aristeo', 'akcali', 'email', 'yyyy', 'zzz', 'mailto', 'email', 'yyyy', 'zzz', 'send', 'friday', 'november', 'mohdhafi', 'agdern', 'email', 'yyyy', 'zzz', 'mailto', 'email', 'yyyy', 'zzz', 'cc', 'suchit', 'aiyer', 'email', 'yyyy', 'zzz', 'mailto', 'email', 'yyyy', 'zzz', 'subject', 'december', 'meet', 'request', 'tiffany', 'hope', 'well', 'hop', 'could', 'suggest', 'options', 'time', 'meet', 'ram', 'go', 'nda', 'language', 'legal', 'supply', 'mgmt', 'team', 'think', 'week', 'dec', 'th', 'th', 'would', 'good', 'target', 'way', 'get', 'hold', 'ram', 'please', 'let', 'us', 'know', 'oskar', 'chad', 'invite', 'thank', 'brandon', 'aristeo', 'akcali']\n",
      "['past', 'months', 'system', 'plan', 'partner', 'energy', 'exemplar', 'https', 'www', 'energyexemplar', 'com', 'explore', 'technology', 'solutions', 'business', 'need', 'joint', 'developments', 'renewable', 'generation', 'model', 'production', 'cost', 'analysis', 'tool', 'enhance', 'adjust', 'production', 'cost', 'calculation', 'congestion', 'insight', 'tool', 'minute', 'dispatch', 'capability', 'still', 'work', 'also', 'recognize', 'potentials', 'energy', 'exemplar', 'bring', 'span', 'beyond', 'transmission', 'plan', 'jordan', 'would', 'like', 'invite', 'explore', 'energy', 'exemplar', 'help', 'business', 'area', 'need', 'future', 'separate', 'calendar', 'invite', 'send', 'shortly', 'last', 'week', 'february', 'also', 'hope', 'connect', 'ccac', 'sales', 'energy', 'exemplar', 'executive', 'leadership', 'team', 'share', 'vision', 'forward', 'collectively', 'jordan', 'leverage', 'internal', 'brainstorm', 'session', 'january', 'shape', 'joint', 'conversation', 'thank', 'happy', 'holiday', 'beili', 'jordan']\n",
      "['microsoft', 'team', 'meet', 'join', 'computer', 'mobile', 'app', 'click', 'join', 'meet', 'https', 'team', 'microsoft', 'com', 'l', 'meetup', 'join', 'ameeting', 'ymnhzde', 'ntctymi', 'yy', 'zju', 'lwfjmzgtotjkzje', 'zty', 'mmvk', 'thread', 'v', 'context', 'b', 'tid', 'b', 'dff', 'bb', 'ac', 'c', 'dc', 'c', 'oid', 'e', 'ce', 'b', 'b', 'df', 'c', 'b', 'fbd', 'bc', 'join', 'video', 'conferencing', 'device', 'email', 'yyyy', 'zzz', 'mailto', 'email', 'yyyy', 'zzz', 'video', 'conference', 'id', 'alternate', 'vtc', 'instructions', 'https', 'pexip', 'team', 'meet', 'ccac', 'sales', 'call', 'audio', 'tel', 'unite', 'state', 'gary', 'phone', 'conference', 'id', 'find', 'local', 'number', 'https', 'dialin', 'team', 'microsoft', 'com', 'ba', 'dc', 'b', 'b', 'c', 'cbbf', 'id', 'reset', 'pin', 'https', 'mysettings', 'lync', 'com', 'pstnconferencing', 'learn', 'https', 'aka', 'ms', 'jointeamsmeeting', 'meet', 'options', 'https', 'team', 'microsoft', 'com', 'meetingoptions', 'organizerid', 'e', 'ce', 'b', 'b', 'df', 'c', 'b', 'fbd', 'bc', 'tenantid', 'b', 'dff', 'bb', 'ac', 'c', 'dc', 'threadid', 'meet', 'ymnhzde', 'ntctymi', 'yy', 'zju', 'lwfjmzgtotjkzje', 'zty', 'mmvk', 'thread', 'v', 'messageid', 'language', 'en', 'us']\n",
      "['microsoft', 'team', 'meet', 'join', 'computer', 'mobile', 'app', 'click', 'join', 'meet', 'https', 'team', 'microsoft', 'com', 'l', 'meetup', 'join', 'ameeting', 'owu', 'ymrkotetngyymi', 'mdhllthjytctmzg', 'ytuwmgu', 'owfm', 'thread', 'v', 'context', 'b', 'tid', 'b', 'dff', 'bb', 'ac', 'c', 'dc', 'c', 'oid', 'ae', 'ef', 'b', 'bda', 'e', 'b', 'c', 'fd', 'call', 'audio', 'tel', 'unite', 'state', 'gary', 'phone', 'conference', 'id', 'find', 'local', 'number', 'https', 'dialin', 'team', 'microsoft', 'com', 'ba', 'dc', 'b', 'b', 'c', 'cbbf', 'id', 'reset', 'pin', 'https', 'mysettings', 'lync', 'com', 'pstnconferencing', 'learn', 'https', 'aka', 'ms', 'jointeamsmeeting', 'meet', 'options', 'https', 'team', 'microsoft', 'com', 'meetingoptions', 'organizerid', 'ae', 'ef', 'b', 'bda', 'e', 'b', 'c', 'fd', 'tenantid', 'b', 'dff', 'bb', 'ac', 'c', 'dc', 'threadid', 'meet', 'owu', 'ymrkotetngyymi', 'mdhllthjytctmzg', 'ytuwmgu', 'owfm', 'thread', 'v', 'messageid', 'language', 'en', 'us']\n",
      "['one', 'confirm', 'date', 'time', 'julie', 'update', 'hold']\n"
     ]
    }
   ],
   "source": [
    "valid_data[\"Lemmatized_Text\"] = valid_data[\"Nostopword_Text\"].apply(lemmatize_word)\n",
    "print(\"\\033[1m\\u001b[45;1m The First 5 Texts after lemitization:\\033[0m\",*valid_data[\"Lemmatized_Text\"][:5], sep = \"\\n\")"
   ]
  },
  {
   "cell_type": "code",
   "execution_count": 30,
   "id": "77b969a8",
   "metadata": {},
   "outputs": [
    {
     "data": {
      "text/html": [
       "<div>\n",
       "<style scoped>\n",
       "    .dataframe tbody tr th:only-of-type {\n",
       "        vertical-align: middle;\n",
       "    }\n",
       "\n",
       "    .dataframe tbody tr th {\n",
       "        vertical-align: top;\n",
       "    }\n",
       "\n",
       "    .dataframe thead th {\n",
       "        text-align: right;\n",
       "    }\n",
       "</style>\n",
       "<table border=\"1\" class=\"dataframe\">\n",
       "  <thead>\n",
       "    <tr style=\"text-align: right;\">\n",
       "      <th></th>\n",
       "      <th>Target</th>\n",
       "      <th>Text</th>\n",
       "      <th>No_of_Characters</th>\n",
       "      <th>No_of_Words</th>\n",
       "      <th>No_of_sentence</th>\n",
       "      <th>Clean_Text</th>\n",
       "      <th>Tokenize_Text</th>\n",
       "      <th>Nostopword_Text</th>\n",
       "      <th>Lemmatized_Text</th>\n",
       "    </tr>\n",
       "  </thead>\n",
       "  <tbody>\n",
       "    <tr>\n",
       "      <th>0</th>\n",
       "      <td>ham</td>\n",
       "      <td>Go until jurong point, crazy.. Available only ...</td>\n",
       "      <td>111</td>\n",
       "      <td>24</td>\n",
       "      <td>2</td>\n",
       "      <td>go until jurong point crazy available only in ...</td>\n",
       "      <td>[go, until, jurong, point, crazy, available, o...</td>\n",
       "      <td>[go, jurong, point, crazy, available, bugis, n...</td>\n",
       "      <td>[go, jurong, point, crazy, available, bugis, n...</td>\n",
       "    </tr>\n",
       "    <tr>\n",
       "      <th>1</th>\n",
       "      <td>ham</td>\n",
       "      <td>Ok lar... Joking wif u oni...</td>\n",
       "      <td>29</td>\n",
       "      <td>8</td>\n",
       "      <td>2</td>\n",
       "      <td>ok lar joking wif u oni</td>\n",
       "      <td>[ok, lar, joking, wif, u, oni]</td>\n",
       "      <td>[ok, lar, joking, wif, u, oni]</td>\n",
       "      <td>[ok, lar, joke, wif, u, oni]</td>\n",
       "    </tr>\n",
       "    <tr>\n",
       "      <th>2</th>\n",
       "      <td>spam</td>\n",
       "      <td>Free entry in 2 a wkly comp to win FA Cup fina...</td>\n",
       "      <td>155</td>\n",
       "      <td>37</td>\n",
       "      <td>2</td>\n",
       "      <td>free entry in a wkly comp to win fa cup final ...</td>\n",
       "      <td>[free, entry, in, a, wkly, comp, to, win, fa, ...</td>\n",
       "      <td>[free, entry, wkly, comp, win, fa, cup, final,...</td>\n",
       "      <td>[free, entry, wkly, comp, win, fa, cup, final,...</td>\n",
       "    </tr>\n",
       "    <tr>\n",
       "      <th>3</th>\n",
       "      <td>ham</td>\n",
       "      <td>U dun say so early hor... U c already then say...</td>\n",
       "      <td>49</td>\n",
       "      <td>13</td>\n",
       "      <td>1</td>\n",
       "      <td>u dun say so early hor u c already then say</td>\n",
       "      <td>[u, dun, say, so, early, hor, u, c, already, t...</td>\n",
       "      <td>[u, dun, say, early, hor, u, c, already, say]</td>\n",
       "      <td>[u, dun, say, early, hor, u, c, already, say]</td>\n",
       "    </tr>\n",
       "    <tr>\n",
       "      <th>4</th>\n",
       "      <td>ham</td>\n",
       "      <td>Nah I don't think he goes to usf, he lives aro...</td>\n",
       "      <td>61</td>\n",
       "      <td>15</td>\n",
       "      <td>1</td>\n",
       "      <td>nah i don t think he goes to usf he lives arou...</td>\n",
       "      <td>[nah, i, don, t, think, he, goes, to, usf, he,...</td>\n",
       "      <td>[nah, think, goes, usf, lives, around, though]</td>\n",
       "      <td>[nah, think, go, usf, live, around, though]</td>\n",
       "    </tr>\n",
       "  </tbody>\n",
       "</table>\n",
       "</div>"
      ],
      "text/plain": [
       "  Target                                               Text  No_of_Characters  \\\n",
       "0    ham  Go until jurong point, crazy.. Available only ...               111   \n",
       "1    ham                      Ok lar... Joking wif u oni...                29   \n",
       "2   spam  Free entry in 2 a wkly comp to win FA Cup fina...               155   \n",
       "3    ham  U dun say so early hor... U c already then say...                49   \n",
       "4    ham  Nah I don't think he goes to usf, he lives aro...                61   \n",
       "\n",
       "   No_of_Words  No_of_sentence  \\\n",
       "0           24               2   \n",
       "1            8               2   \n",
       "2           37               2   \n",
       "3           13               1   \n",
       "4           15               1   \n",
       "\n",
       "                                          Clean_Text  \\\n",
       "0  go until jurong point crazy available only in ...   \n",
       "1                            ok lar joking wif u oni   \n",
       "2  free entry in a wkly comp to win fa cup final ...   \n",
       "3        u dun say so early hor u c already then say   \n",
       "4  nah i don t think he goes to usf he lives arou...   \n",
       "\n",
       "                                       Tokenize_Text  \\\n",
       "0  [go, until, jurong, point, crazy, available, o...   \n",
       "1                     [ok, lar, joking, wif, u, oni]   \n",
       "2  [free, entry, in, a, wkly, comp, to, win, fa, ...   \n",
       "3  [u, dun, say, so, early, hor, u, c, already, t...   \n",
       "4  [nah, i, don, t, think, he, goes, to, usf, he,...   \n",
       "\n",
       "                                     Nostopword_Text  \\\n",
       "0  [go, jurong, point, crazy, available, bugis, n...   \n",
       "1                     [ok, lar, joking, wif, u, oni]   \n",
       "2  [free, entry, wkly, comp, win, fa, cup, final,...   \n",
       "3      [u, dun, say, early, hor, u, c, already, say]   \n",
       "4     [nah, think, goes, usf, lives, around, though]   \n",
       "\n",
       "                                     Lemmatized_Text  \n",
       "0  [go, jurong, point, crazy, available, bugis, n...  \n",
       "1                       [ok, lar, joke, wif, u, oni]  \n",
       "2  [free, entry, wkly, comp, win, fa, cup, final,...  \n",
       "3      [u, dun, say, early, hor, u, c, already, say]  \n",
       "4        [nah, think, go, usf, live, around, though]  "
      ]
     },
     "execution_count": 30,
     "metadata": {},
     "output_type": "execute_result"
    }
   ],
   "source": [
    "data.head()\n"
   ]
  },
  {
   "cell_type": "code",
   "execution_count": 31,
   "id": "54a0313e",
   "metadata": {},
   "outputs": [
    {
     "data": {
      "text/html": [
       "<div>\n",
       "<style scoped>\n",
       "    .dataframe tbody tr th:only-of-type {\n",
       "        vertical-align: middle;\n",
       "    }\n",
       "\n",
       "    .dataframe tbody tr th {\n",
       "        vertical-align: top;\n",
       "    }\n",
       "\n",
       "    .dataframe thead th {\n",
       "        text-align: right;\n",
       "    }\n",
       "</style>\n",
       "<table border=\"1\" class=\"dataframe\">\n",
       "  <thead>\n",
       "    <tr style=\"text-align: right;\">\n",
       "      <th></th>\n",
       "      <th>Id</th>\n",
       "      <th>Body</th>\n",
       "      <th>No_of_Characters</th>\n",
       "      <th>No_of_Words</th>\n",
       "      <th>No_of_sentence</th>\n",
       "      <th>Clean_Text</th>\n",
       "      <th>Tokenize_Text</th>\n",
       "      <th>Nostopword_Text</th>\n",
       "      <th>Lemmatized_Text</th>\n",
       "    </tr>\n",
       "  </thead>\n",
       "  <tbody>\n",
       "    <tr>\n",
       "      <th>0</th>\n",
       "      <td>1</td>\n",
       "      <td>Thank you! I just sent a hold time.  I will ca...</td>\n",
       "      <td>1485</td>\n",
       "      <td>304</td>\n",
       "      <td>12</td>\n",
       "      <td>thank you i just sent a hold time i will cance...</td>\n",
       "      <td>[thank, you, i, just, sent, a, hold, time, i, ...</td>\n",
       "      <td>[thank, sent, hold, time, cancel, decide, need...</td>\n",
       "      <td>[thank, send, hold, time, cancel, decide, need...</td>\n",
       "    </tr>\n",
       "    <tr>\n",
       "      <th>1</th>\n",
       "      <td>2</td>\n",
       "      <td>Over the past 8 months, System Planning has be...</td>\n",
       "      <td>1028</td>\n",
       "      <td>167</td>\n",
       "      <td>8</td>\n",
       "      <td>over the past months system planning has been ...</td>\n",
       "      <td>[over, the, past, months, system, planning, ha...</td>\n",
       "      <td>[past, months, system, planning, partnering, e...</td>\n",
       "      <td>[past, months, system, plan, partner, energy, ...</td>\n",
       "    </tr>\n",
       "    <tr>\n",
       "      <th>2</th>\n",
       "      <td>3</td>\n",
       "      <td>_________________________________________...</td>\n",
       "      <td>1379</td>\n",
       "      <td>177</td>\n",
       "      <td>1</td>\n",
       "      <td>microsoft teams meeting join on your computer ...</td>\n",
       "      <td>[microsoft, teams, meeting, join, on, your, co...</td>\n",
       "      <td>[microsoft, teams, meeting, join, computer, mo...</td>\n",
       "      <td>[microsoft, team, meet, join, computer, mobile...</td>\n",
       "    </tr>\n",
       "    <tr>\n",
       "      <th>3</th>\n",
       "      <td>4</td>\n",
       "      <td>_______________________________...</td>\n",
       "      <td>1175</td>\n",
       "      <td>133</td>\n",
       "      <td>1</td>\n",
       "      <td>microsoft teams meeting join on your computer ...</td>\n",
       "      <td>[microsoft, teams, meeting, join, on, your, co...</td>\n",
       "      <td>[microsoft, teams, meeting, join, computer, mo...</td>\n",
       "      <td>[microsoft, team, meet, join, computer, mobile...</td>\n",
       "    </tr>\n",
       "    <tr>\n",
       "      <th>4</th>\n",
       "      <td>5</td>\n",
       "      <td>One I confirm a date and time with Julie, I wi...</td>\n",
       "      <td>74</td>\n",
       "      <td>18</td>\n",
       "      <td>1</td>\n",
       "      <td>one i confirm a date and time with julie i wil...</td>\n",
       "      <td>[one, i, confirm, a, date, and, time, with, ju...</td>\n",
       "      <td>[one, confirm, date, time, julie, update, holds]</td>\n",
       "      <td>[one, confirm, date, time, julie, update, hold]</td>\n",
       "    </tr>\n",
       "  </tbody>\n",
       "</table>\n",
       "</div>"
      ],
      "text/plain": [
       "   Id                                               Body  No_of_Characters  \\\n",
       "0   1  Thank you! I just sent a hold time.  I will ca...              1485   \n",
       "1   2  Over the past 8 months, System Planning has be...              1028   \n",
       "2   3       _________________________________________...              1379   \n",
       "3   4                 _______________________________...              1175   \n",
       "4   5  One I confirm a date and time with Julie, I wi...                74   \n",
       "\n",
       "   No_of_Words  No_of_sentence  \\\n",
       "0          304              12   \n",
       "1          167               8   \n",
       "2          177               1   \n",
       "3          133               1   \n",
       "4           18               1   \n",
       "\n",
       "                                          Clean_Text  \\\n",
       "0  thank you i just sent a hold time i will cance...   \n",
       "1  over the past months system planning has been ...   \n",
       "2  microsoft teams meeting join on your computer ...   \n",
       "3  microsoft teams meeting join on your computer ...   \n",
       "4  one i confirm a date and time with julie i wil...   \n",
       "\n",
       "                                       Tokenize_Text  \\\n",
       "0  [thank, you, i, just, sent, a, hold, time, i, ...   \n",
       "1  [over, the, past, months, system, planning, ha...   \n",
       "2  [microsoft, teams, meeting, join, on, your, co...   \n",
       "3  [microsoft, teams, meeting, join, on, your, co...   \n",
       "4  [one, i, confirm, a, date, and, time, with, ju...   \n",
       "\n",
       "                                     Nostopword_Text  \\\n",
       "0  [thank, sent, hold, time, cancel, decide, need...   \n",
       "1  [past, months, system, planning, partnering, e...   \n",
       "2  [microsoft, teams, meeting, join, computer, mo...   \n",
       "3  [microsoft, teams, meeting, join, computer, mo...   \n",
       "4   [one, confirm, date, time, julie, update, holds]   \n",
       "\n",
       "                                     Lemmatized_Text  \n",
       "0  [thank, send, hold, time, cancel, decide, need...  \n",
       "1  [past, months, system, plan, partner, energy, ...  \n",
       "2  [microsoft, team, meet, join, computer, mobile...  \n",
       "3  [microsoft, team, meet, join, computer, mobile...  \n",
       "4    [one, confirm, date, time, julie, update, hold]  "
      ]
     },
     "execution_count": 31,
     "metadata": {},
     "output_type": "execute_result"
    }
   ],
   "source": [
    "valid_data.head()"
   ]
  },
  {
   "cell_type": "markdown",
   "id": "1fb6b932",
   "metadata": {},
   "source": [
    "TF-IDF in NLP stands for Term Frequency – Inverse document frequency. In NLP cleaned data needs to be converted into a numerical format where each word is represented by a matrix. This is also known as word embedding or Word vectorization.\n",
    "\n",
    "Term Frequency (TF) = (Frequency of a term in the document)/(Total number of terms in documents) Inverse Document Frequency(IDF) = log( (total number of documents)/(number of documents with term t)) I will be using TfidfVectorizer() to vectorize the preprocessed data.\n",
    "\n",
    "Steps in the Vectorizing:\n",
    "\n",
    "Creating a corpus of lemmatized text\n",
    "Converting the corpus in vector form\n",
    "Label Encoding the classes in Target\n",
    "Note: So far we have been stalking up columns in our data for the purpose of explanation"
   ]
  },
  {
   "cell_type": "code",
   "execution_count": 32,
   "id": "65181e94",
   "metadata": {},
   "outputs": [
    {
     "name": "stdout",
     "output_type": "stream",
     "text": [
      "\u001b[1m\u001b[45;1m The First 5 lines in corpus :\u001b[0m\n",
      "go jurong point crazy available bugis n great world la e buffet cine get amore wat\n",
      "ok lar joke wif u oni\n",
      "free entry wkly comp win fa cup final tkts st may text fa receive entry question std txt rate c apply\n",
      "u dun say early hor u c already say\n",
      "nah think go usf live around though\n"
     ]
    }
   ],
   "source": [
    "#Creating a corpus of text feature to encode further into vectorized form\n",
    "corpus= []\n",
    "for i in data[\"Lemmatized_Text\"]:\n",
    "    msg = ' '.join([row for row in i])\n",
    "    corpus.append(msg)\n",
    "    \n",
    "corpus[:5]\n",
    "print(\"\\033[1m\\u001b[45;1m The First 5 lines in corpus :\\033[0m\",*corpus[:5], sep = \"\\n\")"
   ]
  },
  {
   "cell_type": "code",
   "execution_count": 33,
   "id": "558d4127",
   "metadata": {},
   "outputs": [
    {
     "data": {
      "text/plain": [
       "10743"
      ]
     },
     "execution_count": 33,
     "metadata": {},
     "output_type": "execute_result"
    }
   ],
   "source": [
    "len(corpus)"
   ]
  },
  {
   "cell_type": "code",
   "execution_count": 34,
   "id": "0ee26997",
   "metadata": {},
   "outputs": [
    {
     "name": "stdout",
     "output_type": "stream",
     "text": [
      "\u001b[1m\u001b[45;1m The First 5 lines in corpus :\u001b[0m\n",
      "thank send hold time cancel decide need mohdhafi agdern email yyyy zzz send friday november pm brandon aristeo akcali email yyyy zzz cc suchit aiyer email yyyy zzz subject ext december meet request hi brandon ram meet st nd half hour time pt let know time work potentially invite oskar chad regard mohdhafi agdern civil environmental engineer jerry yang akiko yamazaki environment energy build via ortega stanford ca brandon aristeo akcali email yyyy zzz mailto email yyyy zzz send friday november mohdhafi agdern email yyyy zzz mailto email yyyy zzz cc suchit aiyer email yyyy zzz mailto email yyyy zzz subject december meet request tiffany hope well hop could suggest options time meet ram go nda language legal supply mgmt team think week dec th th would good target way get hold ram please let us know oskar chad invite thank brandon aristeo akcali\n",
      "past months system plan partner energy exemplar https www energyexemplar com explore technology solutions business need joint developments renewable generation model production cost analysis tool enhance adjust production cost calculation congestion insight tool minute dispatch capability still work also recognize potentials energy exemplar bring span beyond transmission plan jordan would like invite explore energy exemplar help business area need future separate calendar invite send shortly last week february also hope connect ccac sales energy exemplar executive leadership team share vision forward collectively jordan leverage internal brainstorm session january shape joint conversation thank happy holiday beili jordan\n",
      "microsoft team meet join computer mobile app click join meet https team microsoft com l meetup join ameeting ymnhzde ntctymi yy zju lwfjmzgtotjkzje zty mmvk thread v context b tid b dff bb ac c dc c oid e ce b b df c b fbd bc join video conferencing device email yyyy zzz mailto email yyyy zzz video conference id alternate vtc instructions https pexip team meet ccac sales call audio tel unite state gary phone conference id find local number https dialin team microsoft com ba dc b b c cbbf id reset pin https mysettings lync com pstnconferencing learn https aka ms jointeamsmeeting meet options https team microsoft com meetingoptions organizerid e ce b b df c b fbd bc tenantid b dff bb ac c dc threadid meet ymnhzde ntctymi yy zju lwfjmzgtotjkzje zty mmvk thread v messageid language en us\n",
      "microsoft team meet join computer mobile app click join meet https team microsoft com l meetup join ameeting owu ymrkotetngyymi mdhllthjytctmzg ytuwmgu owfm thread v context b tid b dff bb ac c dc c oid ae ef b bda e b c fd call audio tel unite state gary phone conference id find local number https dialin team microsoft com ba dc b b c cbbf id reset pin https mysettings lync com pstnconferencing learn https aka ms jointeamsmeeting meet options https team microsoft com meetingoptions organizerid ae ef b bda e b c fd tenantid b dff bb ac c dc threadid meet owu ymrkotetngyymi mdhllthjytctmzg ytuwmgu owfm thread v messageid language en us\n",
      "one confirm date time julie update hold\n"
     ]
    }
   ],
   "source": [
    "#Creating a corpus of text feature to encode further into vectorized form\n",
    "corpus_v= []\n",
    "for i in valid_data[\"Lemmatized_Text\"]:\n",
    "    msg = ' '.join([row for row in i])\n",
    "    corpus_v.append(msg)\n",
    "    \n",
    "corpus_v[:5]\n",
    "print(\"\\033[1m\\u001b[45;1m The First 5 lines in corpus :\\033[0m\",*corpus_v[:5], sep = \"\\n\")"
   ]
  },
  {
   "cell_type": "code",
   "execution_count": 35,
   "id": "8bfb9967",
   "metadata": {},
   "outputs": [
    {
     "data": {
      "text/plain": [
       "4898"
      ]
     },
     "execution_count": 35,
     "metadata": {},
     "output_type": "execute_result"
    }
   ],
   "source": [
    "len(corpus_v)"
   ]
  },
  {
   "cell_type": "code",
   "execution_count": 36,
   "id": "4404fe8b",
   "metadata": {},
   "outputs": [],
   "source": [
    "combcor=corpus+corpus_v"
   ]
  },
  {
   "cell_type": "code",
   "execution_count": 37,
   "id": "69dd76b5",
   "metadata": {},
   "outputs": [
    {
     "data": {
      "text/plain": [
       "list"
      ]
     },
     "execution_count": 37,
     "metadata": {},
     "output_type": "execute_result"
    }
   ],
   "source": [
    "type(combcor)"
   ]
  },
  {
   "cell_type": "code",
   "execution_count": 38,
   "id": "2851595d",
   "metadata": {},
   "outputs": [
    {
     "data": {
      "text/plain": [
       "15641"
      ]
     },
     "execution_count": 38,
     "metadata": {},
     "output_type": "execute_result"
    }
   ],
   "source": [
    "len(combcor)"
   ]
  },
  {
   "cell_type": "code",
   "execution_count": 39,
   "id": "978741f8",
   "metadata": {},
   "outputs": [
    {
     "data": {
      "text/plain": [
       "dtype('float64')"
      ]
     },
     "execution_count": 39,
     "metadata": {},
     "output_type": "execute_result"
    }
   ],
   "source": [
    "#Changing text data in to numbers. \n",
    "tfidf = TfidfVectorizer()\n",
    "X = tfidf.fit_transform(corpus).toarray()\n",
    "#Let's have a look at our feature \n",
    "X.dtype"
   ]
  },
  {
   "cell_type": "code",
   "execution_count": 40,
   "id": "cd7771f1",
   "metadata": {},
   "outputs": [
    {
     "data": {
      "text/plain": [
       "dtype('float64')"
      ]
     },
     "execution_count": 40,
     "metadata": {},
     "output_type": "execute_result"
    }
   ],
   "source": [
    "#Changing text data in to numbers. \n",
    "tfidf_v = TfidfVectorizer()\n",
    "X_v = tfidf_v.fit_transform(corpus_v).toarray()\n",
    "#Let's have a look at our feature \n",
    "X_v.dtype"
   ]
  },
  {
   "cell_type": "code",
   "execution_count": 41,
   "id": "a4c149cd",
   "metadata": {},
   "outputs": [
    {
     "data": {
      "text/plain": [
       "dtype('float64')"
      ]
     },
     "execution_count": 41,
     "metadata": {},
     "output_type": "execute_result"
    }
   ],
   "source": [
    "#Changing text data in to numbers. \n",
    "tfidf_c = TfidfVectorizer()\n",
    "X_c = tfidf_c.fit_transform(combcor).toarray()\n",
    "#Let's have a look at our feature \n",
    "X_c.dtype"
   ]
  },
  {
   "cell_type": "code",
   "execution_count": 42,
   "id": "ea4c49fa",
   "metadata": {},
   "outputs": [],
   "source": [
    "#Label encode the Target and use it as y\n",
    "label_encoder = LabelEncoder()\n",
    "data[\"Target\"] = label_encoder.fit_transform(data[\"Target\"])"
   ]
  },
  {
   "cell_type": "markdown",
   "id": "05bfe973",
   "metadata": {},
   "source": [
    "#### Model Building"
   ]
  },
  {
   "cell_type": "code",
   "execution_count": 43,
   "id": "0a1026b7",
   "metadata": {},
   "outputs": [],
   "source": [
    "#Setting values for labels and feature as y and X(we already did X in vectorizing...)\n",
    "y = data[\"Target\"] \n",
    "# Splitting the testing and training sets\n",
    "#X_train, X_test, y_train, y_test = train_test_split(X, y, test_size=0.2, random_state=42)"
   ]
  },
  {
   "cell_type": "code",
   "execution_count": 112,
   "id": "a5d352bb",
   "metadata": {},
   "outputs": [],
   "source": [
    "#Testing on the following classifiers\n",
    "classifiers = [MultinomialNB(), \n",
    "               RandomForestClassifier(),\n",
    "               KNeighborsClassifier(), \n",
    "               SVC()]\n",
    "for cls in classifiers:\n",
    "    cls.fit(X_train, y_train)\n",
    "\n",
    "# Dictionary of pipelines and model types for ease of reference\n",
    "pipe_dict = {0: \"NaiveBayes\", 1: \"RandomForest\", 2: \"KNeighbours\",3: \"SVC\"}"
   ]
  },
  {
   "cell_type": "code",
   "execution_count": 113,
   "id": "8a7cdf7a",
   "metadata": {},
   "outputs": [
    {
     "name": "stdout",
     "output_type": "stream",
     "text": [
      "NaiveBayes: 0.892132 \n",
      "RandomForest: 0.951129 \n",
      "KNeighbours: 0.836050 \n",
      "SVC: 0.949965 \n"
     ]
    }
   ],
   "source": [
    "# Crossvalidation \n",
    "for i, model in enumerate(classifiers):\n",
    "    cv_score = cross_val_score(model, X_train,y_train,scoring=\"accuracy\", cv=10)\n",
    "    print(\"%s: %f \" % (pipe_dict[i], cv_score.mean()))"
   ]
  },
  {
   "cell_type": "code",
   "execution_count": 44,
   "id": "cdfde8c8",
   "metadata": {},
   "outputs": [],
   "source": [
    "RF=RandomForestClassifier()"
   ]
  },
  {
   "cell_type": "code",
   "execution_count": 45,
   "id": "7bf67382",
   "metadata": {},
   "outputs": [
    {
     "data": {
      "text/plain": [
       "RandomForestClassifier()"
      ]
     },
     "execution_count": 45,
     "metadata": {},
     "output_type": "execute_result"
    }
   ],
   "source": [
    "RF.fit(X_c[:10743],y[:10743])"
   ]
  },
  {
   "cell_type": "code",
   "execution_count": 46,
   "id": "282ebd7c",
   "metadata": {},
   "outputs": [],
   "source": [
    "y_pred=RF.predict(X_c[10743:15641])"
   ]
  },
  {
   "cell_type": "code",
   "execution_count": 47,
   "id": "67da034d",
   "metadata": {},
   "outputs": [
    {
     "data": {
      "text/plain": [
       "array([0, 0, 1, ..., 0, 0, 0])"
      ]
     },
     "execution_count": 47,
     "metadata": {},
     "output_type": "execute_result"
    }
   ],
   "source": [
    "y_pred"
   ]
  },
  {
   "cell_type": "code",
   "execution_count": 48,
   "id": "f264947d",
   "metadata": {},
   "outputs": [],
   "source": [
    "valid_data[\"Target\"]=y_pred"
   ]
  },
  {
   "cell_type": "code",
   "execution_count": 49,
   "id": "ab133e37",
   "metadata": {},
   "outputs": [
    {
     "data": {
      "text/html": [
       "<div>\n",
       "<style scoped>\n",
       "    .dataframe tbody tr th:only-of-type {\n",
       "        vertical-align: middle;\n",
       "    }\n",
       "\n",
       "    .dataframe tbody tr th {\n",
       "        vertical-align: top;\n",
       "    }\n",
       "\n",
       "    .dataframe thead th {\n",
       "        text-align: right;\n",
       "    }\n",
       "</style>\n",
       "<table border=\"1\" class=\"dataframe\">\n",
       "  <thead>\n",
       "    <tr style=\"text-align: right;\">\n",
       "      <th></th>\n",
       "      <th>Id</th>\n",
       "      <th>Body</th>\n",
       "      <th>No_of_Characters</th>\n",
       "      <th>No_of_Words</th>\n",
       "      <th>No_of_sentence</th>\n",
       "      <th>Clean_Text</th>\n",
       "      <th>Tokenize_Text</th>\n",
       "      <th>Nostopword_Text</th>\n",
       "      <th>Lemmatized_Text</th>\n",
       "      <th>Target</th>\n",
       "    </tr>\n",
       "  </thead>\n",
       "  <tbody>\n",
       "    <tr>\n",
       "      <th>0</th>\n",
       "      <td>1</td>\n",
       "      <td>Thank you! I just sent a hold time.  I will ca...</td>\n",
       "      <td>1485</td>\n",
       "      <td>304</td>\n",
       "      <td>12</td>\n",
       "      <td>thank you i just sent a hold time i will cance...</td>\n",
       "      <td>[thank, you, i, just, sent, a, hold, time, i, ...</td>\n",
       "      <td>[thank, sent, hold, time, cancel, decide, need...</td>\n",
       "      <td>[thank, send, hold, time, cancel, decide, need...</td>\n",
       "      <td>0</td>\n",
       "    </tr>\n",
       "    <tr>\n",
       "      <th>1</th>\n",
       "      <td>2</td>\n",
       "      <td>Over the past 8 months, System Planning has be...</td>\n",
       "      <td>1028</td>\n",
       "      <td>167</td>\n",
       "      <td>8</td>\n",
       "      <td>over the past months system planning has been ...</td>\n",
       "      <td>[over, the, past, months, system, planning, ha...</td>\n",
       "      <td>[past, months, system, planning, partnering, e...</td>\n",
       "      <td>[past, months, system, plan, partner, energy, ...</td>\n",
       "      <td>0</td>\n",
       "    </tr>\n",
       "    <tr>\n",
       "      <th>2</th>\n",
       "      <td>3</td>\n",
       "      <td>_________________________________________...</td>\n",
       "      <td>1379</td>\n",
       "      <td>177</td>\n",
       "      <td>1</td>\n",
       "      <td>microsoft teams meeting join on your computer ...</td>\n",
       "      <td>[microsoft, teams, meeting, join, on, your, co...</td>\n",
       "      <td>[microsoft, teams, meeting, join, computer, mo...</td>\n",
       "      <td>[microsoft, team, meet, join, computer, mobile...</td>\n",
       "      <td>1</td>\n",
       "    </tr>\n",
       "    <tr>\n",
       "      <th>3</th>\n",
       "      <td>4</td>\n",
       "      <td>_______________________________...</td>\n",
       "      <td>1175</td>\n",
       "      <td>133</td>\n",
       "      <td>1</td>\n",
       "      <td>microsoft teams meeting join on your computer ...</td>\n",
       "      <td>[microsoft, teams, meeting, join, on, your, co...</td>\n",
       "      <td>[microsoft, teams, meeting, join, computer, mo...</td>\n",
       "      <td>[microsoft, team, meet, join, computer, mobile...</td>\n",
       "      <td>0</td>\n",
       "    </tr>\n",
       "    <tr>\n",
       "      <th>4</th>\n",
       "      <td>5</td>\n",
       "      <td>One I confirm a date and time with Julie, I wi...</td>\n",
       "      <td>74</td>\n",
       "      <td>18</td>\n",
       "      <td>1</td>\n",
       "      <td>one i confirm a date and time with julie i wil...</td>\n",
       "      <td>[one, i, confirm, a, date, and, time, with, ju...</td>\n",
       "      <td>[one, confirm, date, time, julie, update, holds]</td>\n",
       "      <td>[one, confirm, date, time, julie, update, hold]</td>\n",
       "      <td>0</td>\n",
       "    </tr>\n",
       "    <tr>\n",
       "      <th>...</th>\n",
       "      <td>...</td>\n",
       "      <td>...</td>\n",
       "      <td>...</td>\n",
       "      <td>...</td>\n",
       "      <td>...</td>\n",
       "      <td>...</td>\n",
       "      <td>...</td>\n",
       "      <td>...</td>\n",
       "      <td>...</td>\n",
       "      <td>...</td>\n",
       "    </tr>\n",
       "    <tr>\n",
       "      <th>4893</th>\n",
       "      <td>4894</td>\n",
       "      <td>Haha- no worries.  I made some tweaks around t...</td>\n",
       "      <td>5756</td>\n",
       "      <td>974</td>\n",
       "      <td>33</td>\n",
       "      <td>haha no worries i made some tweaks around the ...</td>\n",
       "      <td>[haha, no, worries, i, made, some, tweaks, aro...</td>\n",
       "      <td>[haha, worries, made, tweaks, around, learning...</td>\n",
       "      <td>[haha, worry, make, tweak, around, learn, work...</td>\n",
       "      <td>0</td>\n",
       "    </tr>\n",
       "    <tr>\n",
       "      <th>4894</th>\n",
       "      <td>4895</td>\n",
       "      <td>Out on PTO</td>\n",
       "      <td>19</td>\n",
       "      <td>3</td>\n",
       "      <td>1</td>\n",
       "      <td>out on pto</td>\n",
       "      <td>[out, on, pto]</td>\n",
       "      <td>[pto]</td>\n",
       "      <td>[pto]</td>\n",
       "      <td>0</td>\n",
       "    </tr>\n",
       "    <tr>\n",
       "      <th>4895</th>\n",
       "      <td>4896</td>\n",
       "      <td>This makes sense to me.         From: Diane M ...</td>\n",
       "      <td>2930</td>\n",
       "      <td>622</td>\n",
       "      <td>23</td>\n",
       "      <td>this makes sense to me from diane m aboo email...</td>\n",
       "      <td>[this, makes, sense, to, me, from, diane, m, a...</td>\n",
       "      <td>[makes, sense, diane, aboo, email, yyyy, zzz, ...</td>\n",
       "      <td>[make, sense, diane, aboo, email, yyyy, zzz, s...</td>\n",
       "      <td>0</td>\n",
       "    </tr>\n",
       "    <tr>\n",
       "      <th>4896</th>\n",
       "      <td>4897</td>\n",
       "      <td>Some ideas for use cases for 8/9 meeting ...</td>\n",
       "      <td>1122</td>\n",
       "      <td>182</td>\n",
       "      <td>8</td>\n",
       "      <td>some ideas for use cases for meeting to discus...</td>\n",
       "      <td>[some, ideas, for, use, cases, for, meeting, t...</td>\n",
       "      <td>[ideas, use, cases, meeting, discuss, based, c...</td>\n",
       "      <td>[ideas, use, case, meet, discuss, base, chat, ...</td>\n",
       "      <td>0</td>\n",
       "    </tr>\n",
       "    <tr>\n",
       "      <th>4897</th>\n",
       "      <td>4898</td>\n",
       "      <td>Perfect. Thank you!          From: Mohdhafi Ag...</td>\n",
       "      <td>1582</td>\n",
       "      <td>312</td>\n",
       "      <td>10</td>\n",
       "      <td>perfect thank you from mohdhafi agdern email y...</td>\n",
       "      <td>[perfect, thank, you, from, mohdhafi, agdern, ...</td>\n",
       "      <td>[perfect, thank, mohdhafi, agdern, email, yyyy...</td>\n",
       "      <td>[perfect, thank, mohdhafi, agdern, email, yyyy...</td>\n",
       "      <td>0</td>\n",
       "    </tr>\n",
       "  </tbody>\n",
       "</table>\n",
       "<p>4898 rows × 10 columns</p>\n",
       "</div>"
      ],
      "text/plain": [
       "        Id                                               Body  \\\n",
       "0        1  Thank you! I just sent a hold time.  I will ca...   \n",
       "1        2  Over the past 8 months, System Planning has be...   \n",
       "2        3       _________________________________________...   \n",
       "3        4                 _______________________________...   \n",
       "4        5  One I confirm a date and time with Julie, I wi...   \n",
       "...    ...                                                ...   \n",
       "4893  4894  Haha- no worries.  I made some tweaks around t...   \n",
       "4894  4895                                Out on PTO            \n",
       "4895  4896  This makes sense to me.         From: Diane M ...   \n",
       "4896  4897       Some ideas for use cases for 8/9 meeting ...   \n",
       "4897  4898  Perfect. Thank you!          From: Mohdhafi Ag...   \n",
       "\n",
       "      No_of_Characters  No_of_Words  No_of_sentence  \\\n",
       "0                 1485          304              12   \n",
       "1                 1028          167               8   \n",
       "2                 1379          177               1   \n",
       "3                 1175          133               1   \n",
       "4                   74           18               1   \n",
       "...                ...          ...             ...   \n",
       "4893              5756          974              33   \n",
       "4894                19            3               1   \n",
       "4895              2930          622              23   \n",
       "4896              1122          182               8   \n",
       "4897              1582          312              10   \n",
       "\n",
       "                                             Clean_Text  \\\n",
       "0     thank you i just sent a hold time i will cance...   \n",
       "1     over the past months system planning has been ...   \n",
       "2     microsoft teams meeting join on your computer ...   \n",
       "3     microsoft teams meeting join on your computer ...   \n",
       "4     one i confirm a date and time with julie i wil...   \n",
       "...                                                 ...   \n",
       "4893  haha no worries i made some tweaks around the ...   \n",
       "4894                                         out on pto   \n",
       "4895  this makes sense to me from diane m aboo email...   \n",
       "4896  some ideas for use cases for meeting to discus...   \n",
       "4897  perfect thank you from mohdhafi agdern email y...   \n",
       "\n",
       "                                          Tokenize_Text  \\\n",
       "0     [thank, you, i, just, sent, a, hold, time, i, ...   \n",
       "1     [over, the, past, months, system, planning, ha...   \n",
       "2     [microsoft, teams, meeting, join, on, your, co...   \n",
       "3     [microsoft, teams, meeting, join, on, your, co...   \n",
       "4     [one, i, confirm, a, date, and, time, with, ju...   \n",
       "...                                                 ...   \n",
       "4893  [haha, no, worries, i, made, some, tweaks, aro...   \n",
       "4894                                     [out, on, pto]   \n",
       "4895  [this, makes, sense, to, me, from, diane, m, a...   \n",
       "4896  [some, ideas, for, use, cases, for, meeting, t...   \n",
       "4897  [perfect, thank, you, from, mohdhafi, agdern, ...   \n",
       "\n",
       "                                        Nostopword_Text  \\\n",
       "0     [thank, sent, hold, time, cancel, decide, need...   \n",
       "1     [past, months, system, planning, partnering, e...   \n",
       "2     [microsoft, teams, meeting, join, computer, mo...   \n",
       "3     [microsoft, teams, meeting, join, computer, mo...   \n",
       "4      [one, confirm, date, time, julie, update, holds]   \n",
       "...                                                 ...   \n",
       "4893  [haha, worries, made, tweaks, around, learning...   \n",
       "4894                                              [pto]   \n",
       "4895  [makes, sense, diane, aboo, email, yyyy, zzz, ...   \n",
       "4896  [ideas, use, cases, meeting, discuss, based, c...   \n",
       "4897  [perfect, thank, mohdhafi, agdern, email, yyyy...   \n",
       "\n",
       "                                        Lemmatized_Text  Target  \n",
       "0     [thank, send, hold, time, cancel, decide, need...       0  \n",
       "1     [past, months, system, plan, partner, energy, ...       0  \n",
       "2     [microsoft, team, meet, join, computer, mobile...       1  \n",
       "3     [microsoft, team, meet, join, computer, mobile...       0  \n",
       "4       [one, confirm, date, time, julie, update, hold]       0  \n",
       "...                                                 ...     ...  \n",
       "4893  [haha, worry, make, tweak, around, learn, work...       0  \n",
       "4894                                              [pto]       0  \n",
       "4895  [make, sense, diane, aboo, email, yyyy, zzz, s...       0  \n",
       "4896  [ideas, use, case, meet, discuss, base, chat, ...       0  \n",
       "4897  [perfect, thank, mohdhafi, agdern, email, yyyy...       0  \n",
       "\n",
       "[4898 rows x 10 columns]"
      ]
     },
     "execution_count": 49,
     "metadata": {},
     "output_type": "execute_result"
    }
   ],
   "source": [
    "valid_data"
   ]
  },
  {
   "cell_type": "code",
   "execution_count": 50,
   "id": "a061bab3",
   "metadata": {},
   "outputs": [],
   "source": [
    "to_drop_1 = [\"No_of_Characters\",\"No_of_Words\",\"No_of_sentence\",\"Clean_Text\",\"Tokenize_Text\",\"Nostopword_Text\",\"Lemmatized_Text\"]\n",
    "submission = valid_data.drop(data[to_drop_1], axis=1)"
   ]
  },
  {
   "cell_type": "code",
   "execution_count": 51,
   "id": "914cce2c",
   "metadata": {},
   "outputs": [
    {
     "data": {
      "text/html": [
       "<div>\n",
       "<style scoped>\n",
       "    .dataframe tbody tr th:only-of-type {\n",
       "        vertical-align: middle;\n",
       "    }\n",
       "\n",
       "    .dataframe tbody tr th {\n",
       "        vertical-align: top;\n",
       "    }\n",
       "\n",
       "    .dataframe thead th {\n",
       "        text-align: right;\n",
       "    }\n",
       "</style>\n",
       "<table border=\"1\" class=\"dataframe\">\n",
       "  <thead>\n",
       "    <tr style=\"text-align: right;\">\n",
       "      <th></th>\n",
       "      <th>Id</th>\n",
       "      <th>Body</th>\n",
       "      <th>Target</th>\n",
       "    </tr>\n",
       "  </thead>\n",
       "  <tbody>\n",
       "    <tr>\n",
       "      <th>0</th>\n",
       "      <td>1</td>\n",
       "      <td>Thank you! I just sent a hold time.  I will ca...</td>\n",
       "      <td>0</td>\n",
       "    </tr>\n",
       "    <tr>\n",
       "      <th>1</th>\n",
       "      <td>2</td>\n",
       "      <td>Over the past 8 months, System Planning has be...</td>\n",
       "      <td>0</td>\n",
       "    </tr>\n",
       "    <tr>\n",
       "      <th>2</th>\n",
       "      <td>3</td>\n",
       "      <td>_________________________________________...</td>\n",
       "      <td>1</td>\n",
       "    </tr>\n",
       "    <tr>\n",
       "      <th>3</th>\n",
       "      <td>4</td>\n",
       "      <td>_______________________________...</td>\n",
       "      <td>0</td>\n",
       "    </tr>\n",
       "    <tr>\n",
       "      <th>4</th>\n",
       "      <td>5</td>\n",
       "      <td>One I confirm a date and time with Julie, I wi...</td>\n",
       "      <td>0</td>\n",
       "    </tr>\n",
       "  </tbody>\n",
       "</table>\n",
       "</div>"
      ],
      "text/plain": [
       "   Id                                               Body  Target\n",
       "0   1  Thank you! I just sent a hold time.  I will ca...       0\n",
       "1   2  Over the past 8 months, System Planning has be...       0\n",
       "2   3       _________________________________________...       1\n",
       "3   4                 _______________________________...       0\n",
       "4   5  One I confirm a date and time with Julie, I wi...       0"
      ]
     },
     "execution_count": 51,
     "metadata": {},
     "output_type": "execute_result"
    }
   ],
   "source": [
    "submission.head()"
   ]
  },
  {
   "cell_type": "code",
   "execution_count": 52,
   "id": "f274466e",
   "metadata": {},
   "outputs": [],
   "source": [
    "submission.to_csv(\"submission_file1.csv\",index=False)"
   ]
  },
  {
   "cell_type": "code",
   "execution_count": 33,
   "id": "39cf9758",
   "metadata": {},
   "outputs": [],
   "source": [
    "# Model Evaluation\n",
    "# creating lists of varios scores\n",
    "precision =[]\n",
    "recall =[]\n",
    "f1_score = []\n",
    "trainset_accuracy = []\n",
    "testset_accuracy = []\n",
    "\n",
    "for i in classifiers:\n",
    "    pred_train = i.predict(X_train)\n",
    "    pred_test = i.predict(X_test)\n",
    "    prec = metrics.precision_score(y_test, pred_test)\n",
    "    recal = metrics.recall_score(y_test, pred_test)\n",
    "    f1_s = metrics.f1_score(y_test, pred_test)\n",
    "    train_accuracy = model.score(X_train,y_train)\n",
    "    test_accuracy = model.score(X_test,y_test)\n",
    "    \n",
    "       #Appending scores\n",
    "    precision.append(prec)\n",
    "    recall.append(recal)\n",
    "    f1_score.append(f1_s)\n",
    "    trainset_accuracy.append(train_accuracy)\n",
    "    testset_accuracy.append(test_accuracy)"
   ]
  },
  {
   "cell_type": "code",
   "execution_count": null,
   "id": "b40e0ea8",
   "metadata": {},
   "outputs": [],
   "source": []
  }
 ],
 "metadata": {
  "kernelspec": {
   "display_name": "Python 3",
   "language": "python",
   "name": "python3"
  },
  "language_info": {
   "codemirror_mode": {
    "name": "ipython",
    "version": 3
   },
   "file_extension": ".py",
   "mimetype": "text/x-python",
   "name": "python",
   "nbconvert_exporter": "python",
   "pygments_lexer": "ipython3",
   "version": "3.8.8"
  }
 },
 "nbformat": 4,
 "nbformat_minor": 5
}
